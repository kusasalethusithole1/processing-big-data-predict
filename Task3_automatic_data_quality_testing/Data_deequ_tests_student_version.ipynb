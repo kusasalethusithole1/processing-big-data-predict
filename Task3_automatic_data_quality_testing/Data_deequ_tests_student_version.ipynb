{
 "cells": [
  {
   "cell_type": "markdown",
   "metadata": {},
   "source": [
    "# Processing Big Data - Deequ Analysis\n",
    "\n",
    "© Explore Data Science Academy\n",
    "\n",
    "## Honour Code\n",
    "I **KUSASALETHU**, **SITHOLE**, confirm - by submitting this document - that the solutions in this notebook are a result of my own work and that I abide by the [EDSA honour code](https://drive.google.com/file/d/1QDCjGZJ8-FmJE3bZdIQNwnJyQKPhHZBn/view?usp=sharing).\n",
    "    Non-compliance with the honour code constitutes a material breach of contract.\n",
    "\n",
    "\n",
    "## Context\n",
    "\n",
    "Having completed manual data quality checks, it should be obvious that the process can become quite cumbersome. As the Data Engineer in the team, you have researched some tools that could potentially save the team from having to do this cumbersome work. In your research, you have come a across a tool called [Deequ](https://github.com/awslabs/deequ), which is a library for measuring the data quality of large datasets.\n",
    "\n",
    "<div align=\"center\" style=\"width: 600px; font-size: 80%; text-align: center; margin: 0 auto\">\n",
    "<img src=\"https://github.com/Explore-AI/Pictures/raw/master/data_engineering/transform/predict/DataQuality.jpg\"\n",
    "     alt=\"Data Quality\"\n",
    "     style=\"float: center; padding-bottom=0.5em\"\n",
    "     width=100%/>\n",
    "     <p><em>Figure 1. Six dimensions of data quality</em></p>\n",
    "</div>\n",
    "\n",
    "You present this tool to your manager; he is quite impressed and gives you the go-ahead to use this in your implementation. You are now required to perform some data quality tests using this automated data testing tool.\n",
    " "
   ]
  },
  {
   "cell_type": "markdown",
   "metadata": {},
   "source": [
    "> ## 🚩️ Important Notice 🚩️\n",
    ">\n",
    ">To successfully run `pydeequ` without any errors, please make sure that you have an environment that is running pyspark version 3.0.\n",
    "> You are advised to **create a new conda environment** and install this specific version of pyspark to avoid any technical issues:\n",
    ">\n",
    "> `pip install pyspark==3.0`\n",
    "\n",
    "<br>\n",
    "\n",
    "## Import dependencies\n",
    "\n",
    "If you do not have `pydeequ` already installed, install it using the following command:\n",
    "- `pip install pydeequ`"
   ]
  },
  {
   "cell_type": "code",
   "execution_count": 204,
   "metadata": {},
   "outputs": [],
   "source": [
    "import pandas as pd\n",
    "import numpy as np\n",
    "import matplotlib.pyplot as plt\n",
    "import pydeequ\n",
    "from pydeequ.analyzers import *\n",
    "from pydeequ.profiles import *\n",
    "from pydeequ.suggestions import *\n",
    "from pydeequ.checks import *\n",
    "from pydeequ.verification import *\n",
    "\n",
    "from pyspark.sql import SparkSession, Row\n",
    "from pyspark.sql import functions as F\n",
    "from pyspark.sql.types import DecimalType, DoubleType, IntegerType, DateType, NumericType, StructType, StringType, StructField, LongType"
   ]
  },
  {
   "cell_type": "code",
   "execution_count": 205,
   "metadata": {},
   "outputs": [],
   "source": [
    "spark = (SparkSession\n",
    "    .builder\n",
    "    .config(\"spark.jars.packages\", pydeequ.deequ_maven_coord)\n",
    "    .config(\"spark.jars.excludes\", pydeequ.f2j_maven_coord)\n",
    "    .getOrCreate())"
   ]
  },
  {
   "cell_type": "markdown",
   "metadata": {},
   "source": [
    "## Read data into spark dataframe\n",
    "\n",
    "In this notebook, we set out to run some data quality tests, with the possiblity of running end to end on the years 1963, 1974, 1985, 1996, 2007, and 2018. \n",
    "\n",
    "> ℹ️ **Instructions** ℹ️\n",
    ">\n",
    ">1. Make use of the `Data_ingestion_student_version.ipynb` notebook to create the parquet files for the following years:\n",
    ">       - 1963\n",
    ">       - 1974\n",
    ">       - 1985\n",
    ">       - 1996\n",
    ">       - 2007\n",
    ">       - 2018\n",
    ">\n",
    ">2. Ingest the data for the for the years given above. You should only do it one year at a time.\n",
    ">3. Ingest the metadata file.\n",
    "\n",
    "\n",
    "When developing your code, it will be sufficient to focus on a single year. However, after your development is done, you will need to run this notebook for all of the given years above so that you can answer all the questions given in the Data Testing MCQ."
   ]
  },
  {
   "cell_type": "code",
   "execution_count": 206,
   "metadata": {},
   "outputs": [
    {
     "name": "stdout",
     "output_type": "stream",
     "text": [
      "+-------------------+----------+----------+---------+----------+-----------+--------+-----+\n",
      "|               date|      open|      high|      low|     close|  adj_close|  volume|stock|\n",
      "+-------------------+----------+----------+---------+----------+-----------+--------+-----+\n",
      "|1963-10-28 00:00:00|  6.924645|  6.940665| 6.908625|  6.908625|  1.6844347| 39900.0|   AA|\n",
      "|1963-10-28 00:00:00|  6.488943| 6.5123687| 6.465517|  6.465517|  1.5472991| 42600.0| ARNC|\n",
      "|1963-10-28 00:00:00|0.56790125|0.56995887|0.5617284|0.56995887| 0.11004562|789600.0|   BA|\n",
      "|1963-10-28 00:00:00| 1.8541666| 1.9166666|1.8541666| 1.9166666|  0.1730804|319200.0|  CAT|\n",
      "|1963-10-28 00:00:00|       0.0| 4.0859375|4.0234375|  4.046875|0.067614794|156800.0|  CVX|\n",
      "+-------------------+----------+----------+---------+----------+-----------+--------+-----+\n",
      "only showing top 5 rows\n",
      "\n"
     ]
    }
   ],
   "source": [
    "#Ingest stock data of year\n",
    "# Use this variable (year) to determine which year your are focusing on\n",
    "year = 1963\n",
    "\n",
    "df = spark.read.parquet(f\"data/processed_data/{year}/ingested_data\")\n",
    "df.show(5)\n"
   ]
  },
  {
   "cell_type": "code",
   "execution_count": 215,
   "metadata": {},
   "outputs": [
    {
     "name": "stdout",
     "output_type": "stream",
     "text": [
      "+-------------+------+--------------------+----------------+---------------+---+--------------+----------+----------------+----------+-------------+----------+\n",
      "|Nasdaq Traded|Symbol|       Security Name|Listing Exchange|Market Category|ETF|Round Lot Size|Test Issue|Financial Status|CQS Symbol|NASDAQ Symbol|NextShares|\n",
      "+-------------+------+--------------------+----------------+---------------+---+--------------+----------+----------------+----------+-------------+----------+\n",
      "|            Y|     A|Agilent Technolog...|               N|               |  N|         100.0|         N|            NULL|         A|            A|         N|\n",
      "|            Y|    AA|Alcoa Corporation...|               N|               |  N|         100.0|         N|            NULL|        AA|           AA|         N|\n",
      "|            Y|  AAAU|Perth Mint Physic...|               P|               |  Y|         100.0|         N|            NULL|      AAAU|         AAAU|         N|\n",
      "|            Y|  AACG|ATA Creativity Gl...|               Q|              G|  N|         100.0|         N|               N|      NULL|         AACG|         N|\n",
      "|            Y|  AADR|AdvisorShares Dor...|               P|               |  Y|         100.0|         N|            NULL|      AADR|         AADR|         N|\n",
      "+-------------+------+--------------------+----------------+---------------+---+--------------+----------+----------------+----------+-------------+----------+\n",
      "only showing top 5 rows\n",
      "\n"
     ]
    }
   ],
   "source": [
    "#Ingest metadata of stock data\n",
    "metadata_df = spark.read.csv(r\"data\\symbols_valid_meta.csv\", header=True, inferSchema=True)\n",
    "\n",
    "metadata_df.show(5)"
   ]
  },
  {
   "cell_type": "markdown",
   "metadata": {},
   "source": [
    "## **Run tests on the dataset**\n",
    "\n",
    "## Test 1 - Null values ⛔️\n",
    "For the first test, you are required to check the data for completeness.\n",
    "\n",
    "> ℹ️ **Instructions** ℹ️\n",
    ">\n",
    ">1. Make use of the `Verification Suite` and write code to check for missing values in the data. \n",
    ">2. Display the results of your test.\n",
    ">\n",
    "> *You may use as many cells as necessary*\n"
   ]
  },
  {
   "cell_type": "code",
   "execution_count": 208,
   "metadata": {},
   "outputs": [
    {
     "name": "stdout",
     "output_type": "stream",
     "text": [
      "+------------------+-----------+------------+---------------------------------------------------------+-----------------+------------------+\n",
      "|check             |check_level|check_status|constraint                                               |constraint_status|constraint_message|\n",
      "+------------------+-----------+------------+---------------------------------------------------------+-----------------+------------------+\n",
      "|Completeness Check|Error      |Success     |CompletenessConstraint(Completeness(date,None,None))     |Success          |                  |\n",
      "|Completeness Check|Error      |Success     |CompletenessConstraint(Completeness(open,None,None))     |Success          |                  |\n",
      "|Completeness Check|Error      |Success     |CompletenessConstraint(Completeness(high,None,None))     |Success          |                  |\n",
      "|Completeness Check|Error      |Success     |CompletenessConstraint(Completeness(low,None,None))      |Success          |                  |\n",
      "|Completeness Check|Error      |Success     |CompletenessConstraint(Completeness(close,None,None))    |Success          |                  |\n",
      "|Completeness Check|Error      |Success     |CompletenessConstraint(Completeness(adj_close,None,None))|Success          |                  |\n",
      "|Completeness Check|Error      |Success     |CompletenessConstraint(Completeness(volume,None,None))   |Success          |                  |\n",
      "|Completeness Check|Error      |Success     |CompletenessConstraint(Completeness(stock,None,None))    |Success          |                  |\n",
      "+------------------+-----------+------------+---------------------------------------------------------+-----------------+------------------+\n",
      "\n"
     ]
    }
   ],
   "source": [
    "#Nulls Check (Completeness)\n",
    "# Create checks for completeness of each column\n",
    "check = Check(spark, CheckLevel.Error, \"Completeness Check\") \\\n",
    "    .hasCompleteness(\"date\", lambda x: x ==1.0) \\\n",
    "    .hasCompleteness(\"open\", lambda x: x ==1.0) \\\n",
    "    .hasCompleteness(\"high\", lambda x: x ==1.0) \\\n",
    "    .hasCompleteness(\"low\", lambda x: x ==1.0) \\\n",
    "    .hasCompleteness(\"close\", lambda x: x ==1.0) \\\n",
    "    .hasCompleteness(\"adj_close\", lambda x: x ==1.0) \\\n",
    "    .hasCompleteness(\"volume\", lambda x: x ==1.0) \\\n",
    "    .hasCompleteness(\"stock\", lambda x: x ==1.0)\n",
    "\n",
    "# Run the verification suite\n",
    "verification_result = VerificationSuite(spark) \\\n",
    "    .onData(df) \\\n",
    "    .addCheck(check) \\\n",
    "    .run()\n",
    "\n",
    "# Convert the result to a DataFrame\n",
    "result_df = VerificationResult.checkResultsAsDataFrame(spark, verification_result)\n",
    "result_df.show(truncate=False)\n"
   ]
  },
  {
   "cell_type": "markdown",
   "metadata": {},
   "source": [
    "## Test 2 - Zero Values 🅾️\n",
    "\n",
    "For the second test, you are required to check for zero values within the dataset.\n",
    "\n",
    "> ℹ️ **Instructions** ℹ️\n",
    ">\n",
    ">1. Make use of the `Verification Suite` and write code to check for zero values within the data. \n",
    ">2. Display the results of your test.\n",
    ">\n",
    "> *You may use as many cells as necessary*"
   ]
  },
  {
   "cell_type": "code",
   "execution_count": 209,
   "metadata": {},
   "outputs": [
    {
     "name": "stdout",
     "output_type": "stream",
     "text": [
      "+-----------+-----------+------------+--------------------------------------------------------------------------------+-----------------+------------------------------------------------------------------+\n",
      "|check      |check_level|check_status|constraint                                                                      |constraint_status|constraint_message                                                |\n",
      "+-----------+-----------+------------+--------------------------------------------------------------------------------+-----------------+------------------------------------------------------------------+\n",
      "|Zeros Check|Error      |Error       |ComplianceConstraint(Compliance(zero_open,open != 0,None,List(),None))          |Failure          |Value: 0.450199203187251 does not meet the constraint requirement!|\n",
      "|Zeros Check|Error      |Error       |ComplianceConstraint(Compliance(zero_high,high != 0,None,List(),None))          |Success          |                                                                  |\n",
      "|Zeros Check|Error      |Error       |ComplianceConstraint(Compliance(zero_low,low != 0,None,List(),None))            |Success          |                                                                  |\n",
      "|Zeros Check|Error      |Error       |ComplianceConstraint(Compliance(zero_close,close != 0,None,List(),None))        |Success          |                                                                  |\n",
      "|Zeros Check|Error      |Error       |ComplianceConstraint(Compliance(zero_adj_close,adj_close != 0,None,List(),None))|Success          |                                                                  |\n",
      "|Zeros Check|Error      |Error       |ComplianceConstraint(Compliance(zero_volume,volume != 0,None,List(),None))      |Failure          |Value: 0.999402390438247 does not meet the constraint requirement!|\n",
      "+-----------+-----------+------------+--------------------------------------------------------------------------------+-----------------+------------------------------------------------------------------+\n",
      "\n"
     ]
    }
   ],
   "source": [
    "#Zeros Check (Validity)\n",
    "# # Create checks for zeros in each column\n",
    "check = Check(spark, CheckLevel.Error, \"Zeros Check\") \\\n",
    "    .satisfies(\"open != 0\", \"zero_open\") \\\n",
    "    .satisfies(\"high != 0\", \"zero_high\") \\\n",
    "    .satisfies(\"low != 0\", \"zero_low\") \\\n",
    "    .satisfies(\"close != 0\", \"zero_close\") \\\n",
    "    .satisfies(\"adj_close != 0\", \"zero_adj_close\") \\\n",
    "    .satisfies(\"volume != 0\", \"zero_volume\")\n",
    "\n",
    "# Run the verification suite\n",
    "verification_result = VerificationSuite(spark) \\\n",
    "    .onData(df) \\\n",
    "    .addCheck(check) \\\n",
    "    .run()\n",
    "\n",
    "# Convert the result to a DataFrame\n",
    "result_df = VerificationResult.checkResultsAsDataFrame(spark, verification_result)\n",
    "result_df.show(truncate=False)"
   ]
  },
  {
   "cell_type": "markdown",
   "metadata": {},
   "source": [
    "## Test 3 - Negative values ➖️\n",
    "The third test requires you to check that all values in the data are positive.\n",
    "\n",
    "> ℹ️ **Instructions** ℹ️\n",
    ">\n",
    ">1. Make use of the `Verification Suite` and write code to check negative values within the dataset. \n",
    ">2. Display the results of your test.\n",
    ">\n",
    "> *You may use as many cells as necessary*"
   ]
  },
  {
   "cell_type": "code",
   "execution_count": 210,
   "metadata": {},
   "outputs": [
    {
     "name": "stdout",
     "output_type": "stream",
     "text": [
      "+--------------+-----------+------------+------------------------------------------------------------------------------------+-----------------+------------------+\n",
      "|check         |check_level|check_status|constraint                                                                          |constraint_status|constraint_message|\n",
      "+--------------+-----------+------------+------------------------------------------------------------------------------------+-----------------+------------------+\n",
      "|Negative Check|Error      |Success     |ComplianceConstraint(Compliance(negative_open,open >= 0,None,List(),None))          |Success          |                  |\n",
      "|Negative Check|Error      |Success     |ComplianceConstraint(Compliance(negative_high,high >= 0,None,List(),None))          |Success          |                  |\n",
      "|Negative Check|Error      |Success     |ComplianceConstraint(Compliance(negative_low,low >= 0,None,List(),None))            |Success          |                  |\n",
      "|Negative Check|Error      |Success     |ComplianceConstraint(Compliance(negative_close,close >= 0,None,List(),None))        |Success          |                  |\n",
      "|Negative Check|Error      |Success     |ComplianceConstraint(Compliance(negative_adj_close,adj_close >= 0,None,List(),None))|Success          |                  |\n",
      "|Negative Check|Error      |Success     |ComplianceConstraint(Compliance(negative_volume,volume >= 0,None,List(),None))      |Success          |                  |\n",
      "+--------------+-----------+------------+------------------------------------------------------------------------------------+-----------------+------------------+\n",
      "\n"
     ]
    }
   ],
   "source": [
    "#Negative Values Check (Validity)\n",
    "# # Create checks for negatives in each column\n",
    "check = Check(spark, CheckLevel.Error, \"Negative Check\") \\\n",
    "    .satisfies(\"open >= 0\", \"negative_open\") \\\n",
    "    .satisfies(\"high >= 0\", \"negative_high\") \\\n",
    "    .satisfies(\"low >= 0\", \"negative_low\") \\\n",
    "    .satisfies(\"close >= 0\", \"negative_close\") \\\n",
    "    .satisfies(\"adj_close >= 0\", \"negative_adj_close\") \\\n",
    "    .satisfies(\"volume >= 0\", \"negative_volume\")\n",
    "\n",
    "# Run the verification suite\n",
    "verification_result = VerificationSuite(spark) \\\n",
    "    .onData(df) \\\n",
    "    .addCheck(check) \\\n",
    "    .run()\n",
    "\n",
    "# Convert the result to a DataFrame\n",
    "result_df = VerificationResult.checkResultsAsDataFrame(spark, verification_result)\n",
    "result_df.show(truncate=False)"
   ]
  },
  {
   "cell_type": "markdown",
   "metadata": {},
   "source": [
    "## Test 4 - Determine Maximum Values ⚠️\n",
    "\n",
    "For the fourth test, we want to find the maximum values in the dataset for the numerical fields. Extremum values can often be used to define an upper bound for the column values so we can define them as the threshold values. \n",
    "\n",
    "> ℹ️ **Instructions** ℹ️\n",
    ">\n",
    ">1. Make use of the `Column Profiler Runner` to generate summary statistics for all the available columns. \n",
    ">2. Extract the maximum values for all the numeric columns in the data.\n",
    ">\n",
    "> *You may use as many cells as necessary*"
   ]
  },
  {
   "cell_type": "code",
   "execution_count": 211,
   "metadata": {},
   "outputs": [
    {
     "name": "stdout",
     "output_type": "stream",
     "text": [
      "+---------+------------+----------+---------------+-------------------+-----------------+------------------+\n",
      "|column   |completeness|data_type |approx_distinct|min_value          |max_value        |mean              |\n",
      "+---------+------------+----------+---------------+-------------------+-----------------+------------------+\n",
      "|open     |1.0         |Fractional|912            |0.0                |303.125          |1.1365598366658882|\n",
      "|low      |1.0         |Fractional|1702           |0.06563635170459747|311.875          |18.943191553180316|\n",
      "|close    |1.0         |Fractional|1793           |0.06607984006404877|313.75           |19.06198000288253 |\n",
      "|volume   |1.0         |Fractional|1404           |0.0                |2.06928E7        |525223.0677290837 |\n",
      "|adj_close|1.0         |Fractional|2547           |4.89296041905618E-7|148.7704620361328|7.208458180424869 |\n",
      "|high     |1.0         |Fractional|1711           |0.06785380095243454|315.625          |19.17383405059962 |\n",
      "+---------+------------+----------+---------------+-------------------+-----------------+------------------+\n",
      "\n"
     ]
    }
   ],
   "source": [
    "#Maximum Values (Validity)\n",
    "profiler_result = ColumnProfilerRunner(spark).onData(df.select([col for col in df.columns if col not in [\"date\", \"stock\"]])).run()\n",
    "\n",
    "profiles = profiler_result.profiles\n",
    "\n",
    "# Convert the dictionary to a list of Rows\n",
    "profile_rows = []\n",
    "for col_name, profile in profiles.items():\n",
    "    row = Row(\n",
    "        column=col_name,\n",
    "        completeness=profile.completeness,\n",
    "        data_type=profile.dataType,\n",
    "        approx_distinct=profile.approximateNumDistinctValues,\n",
    "        min_value=profile.minimum,\n",
    "        max_value=profile.maximum,\n",
    "        mean=profile.mean\n",
    "    )\n",
    "    profile_rows.append(row)\n",
    "\n",
    "# Create a DataFrame from the list of Rows using the explicit schema\n",
    "profile_df = spark.createDataFrame(profile_rows)\n",
    "profile_df.show(truncate=False)"
   ]
  },
  {
   "cell_type": "code",
   "execution_count": 212,
   "metadata": {},
   "outputs": [
    {
     "name": "stdout",
     "output_type": "stream",
     "text": [
      "{'open': 303.125, 'low': 311.875, 'close': 313.75, 'volume': 20692800.0, 'adj_close': 148.7704620361328, 'high': 315.625}\n"
     ]
    }
   ],
   "source": [
    "numeric_cols = [c for c, profile in result.profiles.items() if profile.dataType == 'Integral' or profile.dataType == 'Fractional']\n",
    "max_values = {col: profile.maximum for col, profile in result.profiles.items() if col in numeric_cols}\n",
    "\n",
    "print(max_values)"
   ]
  },
  {
   "cell_type": "markdown",
   "metadata": {},
   "source": [
    "## Test 5 - Stock Tickers 💹️\n",
    "\n",
    "For the fifth test, we want to determine if the stock tickers contained in our dataset are consistent. To do this, you will need to make use of use of the metadata file to check that the stock names used in the dataframe are valid. \n",
    "\n",
    "> ℹ️ **Instructions** ℹ️\n",
    ">\n",
    ">1. Make use of the `Verification Suite` and write code to determine if the stock tickers contained in the dataset appear in the metadata file.\n",
    ">2. Display the results of your test.\n",
    ">\n",
    "> *You may use as many cells as necessary*"
   ]
  },
  {
   "cell_type": "code",
   "execution_count": 213,
   "metadata": {},
   "outputs": [
    {
     "name": "stdout",
     "output_type": "stream",
     "text": [
      "+-------------------+-----------+------------+--------------------+-----------------+------------------+\n",
      "|              check|check_level|check_status|          constraint|constraint_status|constraint_message|\n",
      "+-------------------+-----------+------------+--------------------+-----------------+------------------+\n",
      "|Ticker Verification|      Error|     Success|ComplianceConstra...|          Success|                  |\n",
      "+-------------------+-----------+------------+--------------------+-----------------+------------------+\n",
      "\n"
     ]
    }
   ],
   "source": [
    "#Stocker Tickers (Validity)\n",
    "# Extract ticker columns\n",
    "parquet_tickers = df.select(\"stock\").distinct()\n",
    "metadata_tickers = metadata_df.select(\"NASDAQ Symbol\").distinct()\n",
    "\n",
    "# Create a check to verify if all tickers in the parquet dataset appear in the metadata dataset\n",
    "check = Check(spark, CheckLevel.Error, \"Ticker Verification\") \\\n",
    "    .isContainedIn(\"stock\", [row['NASDAQ Symbol'] for row in metadata_tickers.collect()])\n",
    "\n",
    "# Run the verification suite\n",
    "verification_result = VerificationSuite(spark) \\\n",
    "    .onData(parquet_tickers) \\\n",
    "    .addCheck(check) \\\n",
    "    .run()\n",
    "\n",
    "# Show the result\n",
    "result_df = VerificationResult.checkResultsAsDataFrame(spark, verification_result)\n",
    "result_df.show()"
   ]
  },
  {
   "cell_type": "markdown",
   "metadata": {},
   "source": [
    "## Test 6 - Duplication 👥️\n",
    "Lastly, we want to determine the uniqueness of the items found in the dataframe. You need to make use of the Verification Suite to check for the validity of the stock tickers. \n",
    "\n",
    "Similar to the previous notebook - `Data_profiling_student_version.ipynb`, the first thing to check will be if the primary key values within the dataset are unique - in our case, that will be a combination of the stock name and the date. Secondly, we want to check if the entries are all unique, which is done by checking for duplicates across that whole dataset.\n",
    "\n",
    "> ℹ️ **Instructions** ℹ️\n",
    ">\n",
    ">1. Make use of the `Verification Suite` and write code to determine the uniqueness of entries contained within the dataset.\n",
    ">2. Display the results of your test.\n",
    ">\n",
    "> *You may use as many cells as necessary*\n",
    "\n"
   ]
  },
  {
   "cell_type": "code",
   "execution_count": 214,
   "metadata": {},
   "outputs": [
    {
     "name": "stdout",
     "output_type": "stream",
     "text": [
      "Uniqueness Check based on Date and Stock:\n",
      "+--------------------+-----------+------------+--------------------+-----------------+------------------+\n",
      "|               check|check_level|check_status|          constraint|constraint_status|constraint_message|\n",
      "+--------------------+-----------+------------+--------------------+-----------------+------------------+\n",
      "|Date and Stock Un...|      Error|     Success|UniquenessConstra...|          Success|                  |\n",
      "+--------------------+-----------+------------+--------------------+-----------------+------------------+\n",
      "\n",
      "Uniqueness Check based on Entire Rows:\n",
      "+--------------------+-----------+------------+--------------------+-----------------+------------------+\n",
      "|               check|check_level|check_status|          constraint|constraint_status|constraint_message|\n",
      "+--------------------+-----------+------------+--------------------+-----------------+------------------+\n",
      "|Row Uniqueness Check|      Error|     Success|UniquenessConstra...|          Success|                  |\n",
      "+--------------------+-----------+------------+--------------------+-----------------+------------------+\n",
      "\n"
     ]
    }
   ],
   "source": [
    "#Uniqueness\n",
    "# Check for uniqueness based on the combination of `date` and `stock`\n",
    "# Uniqueness check based on the combination of `date` and `stock`\n",
    "check_1 = Check(spark, CheckLevel.Error, \"Date and Stock Uniqueness Check\") \\\n",
    "    .hasUniqueness([\"date\", \"stock\"], lambda x: x == 1)\n",
    "\n",
    "# Uniqueness check for the entire rows\n",
    "# Replace \"field1\", \"field2\", \"field3\" with the actual field names in your dataset\n",
    "check_2 = Check(spark, CheckLevel.Error, \"Row Uniqueness Check\") \\\n",
    "    .hasUniqueness(df.columns, lambda x: x == 1)\n",
    "\n",
    "# Run the verification suite for both checks\n",
    "verification_result_1 = VerificationSuite(spark) \\\n",
    "    .onData(df) \\\n",
    "    .addCheck(check_1) \\\n",
    "    .run()\n",
    "\n",
    "verification_result_2 = VerificationSuite(spark) \\\n",
    "    .onData(df) \\\n",
    "    .addCheck(check_2) \\\n",
    "    .run()\n",
    "\n",
    "# Show the results\n",
    "result_df_1 = VerificationResult.checkResultsAsDataFrame(spark, verification_result_1)\n",
    "result_df_2 = VerificationResult.checkResultsAsDataFrame(spark, verification_result_2)\n",
    "\n",
    "print(\"Uniqueness Check based on Date and Stock:\")\n",
    "result_df_1.show()\n",
    "\n",
    "print(\"Uniqueness Check based on Entire Rows:\")\n",
    "result_df_2.show()\n"
   ]
  }
 ],
 "metadata": {
  "interpreter": {
   "hash": "0b41f59b882618484a4d28c089dca4efdf4ffb1e043e654ec6730d7439b802f5"
  },
  "kernelspec": {
   "display_name": "Python 3 (ipykernel)",
   "language": "python",
   "name": "python3"
  },
  "language_info": {
   "codemirror_mode": {
    "name": "ipython",
    "version": 3
   },
   "file_extension": ".py",
   "mimetype": "text/x-python",
   "name": "python",
   "nbconvert_exporter": "python",
   "pygments_lexer": "ipython3",
   "version": "3.11.7"
  }
 },
 "nbformat": 4,
 "nbformat_minor": 2
}
