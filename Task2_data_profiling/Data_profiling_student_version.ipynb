{
 "cells": [
  {
   "cell_type": "markdown",
   "metadata": {},
   "source": [
    "# Processing Big Data - Data profiling\n",
    "\n",
    "© Explore Data Science Academy\n",
    "\n",
    "## Honour Code\n",
    "I **KUSASALETHU**, **SITHOLE**, confirm - by submitting this document - that the solutions in this notebook are a result of my own work and that I abide by the [EDSA honour code](https://drive.google.com/file/d/1QDCjGZJ8-FmJE3bZdIQNwnJyQKPhHZBn/view?usp=sharing).\n",
    "    Non-compliance with the honour code constitutes a material breach of contract.\n",
    "\n",
    "## Context\n",
    "\n",
    "Having completed the first step - data ingestion, the data now needs to be thoroughly prepared so that it is readable, reliable and robust. As the Data Engineer in the team, this will be your responsibility. The Data Scientists are looking to you to clean this data so that model development and deployment become seamless when the data is used in a production environment. Having completed your Data Engineering course recently, your manager Gnissecorp Atadgid, asks you to create data summaries and perform checks using the six dimensions of data quality.\n",
    "\n",
    "<div align=\"center\" style=\"width: 600px; font-size: 80%; text-align: center; margin: 0 auto\">\n",
    "<img src=\"https://github.com/Explore-AI/Pictures/raw/master/data_engineering/transform/predict/DataQuality.jpg\"\n",
    "     alt=\"Data Quality\"\n",
    "     style=\"float: center; padding-bottom=0.5em\"\n",
    "     width=100%/>\n",
    "     <p><em>Figure 1. Six dimensions of data quality</em></p>\n",
    "</div>"
   ]
  },
  {
   "cell_type": "markdown",
   "metadata": {},
   "source": [
    "## Import libraries\n",
    "Below we import the libraries required to complete this section of the predict."
   ]
  },
  {
   "cell_type": "code",
   "execution_count": 151,
   "metadata": {},
   "outputs": [],
   "source": [
    "import pandas as pd\n",
    "import numpy as np\n",
    "import matplotlib.pyplot as plt\n",
    "from datetime import date\n",
    "\n",
    "from pyspark import SparkContext\n",
    "from pyspark.sql import SparkSession\n",
    "from pyspark.sql import functions as F\n",
    "from pyspark.sql.types import *"
   ]
  },
  {
   "cell_type": "markdown",
   "metadata": {},
   "source": [
    "Remember that we need a `SparkContext` and `SparkSession` to interface with Spark.\n",
    "We will mostly be using the `SparkContext` to interact with RDDs \n",
    "and the `SparkSession` to interface with Python objects.\n",
    "\n",
    "> ℹ️ **Instructions** ℹ️\n",
    ">\n",
    ">Initialise a new **Spark Context** and **Session** that you will use to interface with Spark."
   ]
  },
  {
   "cell_type": "code",
   "execution_count": 2,
   "metadata": {},
   "outputs": [],
   "source": [
    "#Initialize spark context and session\n",
    "sc = SparkContext()\n",
    "spark = SparkSession(sc)"
   ]
  },
  {
   "cell_type": "markdown",
   "metadata": {},
   "source": [
    "## Parquet files\n",
    "In the previous section of the predict, you generated parquet files to your local directory. You will be making use of these files to continue with this section of the predict. Please make sure that your parquet files are specifically for the year **1962**. Any other year used outside of **1962** will produce incorrect answers and have a negative impact on your overall predict mark.\n",
    "\n",
    "> ℹ️ **Instructions** ℹ️\n",
    ">\n",
    "> Read the parquet files stored in your directory for the year **1962** into a Spark DataFrame."
   ]
  },
  {
   "cell_type": "code",
   "execution_count": 3,
   "metadata": {},
   "outputs": [
    {
     "name": "stdout",
     "output_type": "stream",
     "text": [
      "+-------------------+-----------+-----------+----------+-----------+------------+---------+-----+\n",
      "|               date|       open|       high|       low|      close|   adj_close|   volume|stock|\n",
      "+-------------------+-----------+-----------+----------+-----------+------------+---------+-----+\n",
      "|1962-02-19 00:00:00|    5.83929|   5.907375|   5.83929|    5.86332|   1.3863293|  29900.0|   AA|\n",
      "|1962-02-19 00:00:00|   5.481634|   5.528486|  5.481634|  5.5167727|   1.2804527|  32000.0| ARNC|\n",
      "|1962-02-19 00:00:00|  0.9074074| 0.91563785|0.89917696|  0.9032922|  0.16141544| 619400.0|   BA|\n",
      "|1962-02-19 00:00:00|  1.6770834|  1.6927084| 1.6614584|  1.6770834|   0.1440587| 170400.0|  CAT|\n",
      "|1962-02-19 00:00:00|        0.0|   3.578869|      20.0|   3.549107| 0.056501225| 273600.0|  CVX|\n",
      "|1962-02-19 00:00:00|0.099767394|0.099767394|0.09820853| 0.09820853| 0.037543412| 817400.0|  DIS|\n",
      "|1962-02-19 00:00:00|        0.0|    29.9375|     29.75|    29.9375|  0.49964145|   1600.0|  DTE|\n",
      "|1962-02-19 00:00:00|        0.0|   9.921875|  9.890625|   9.921875|  0.22499175|   8800.0|   ED|\n",
      "|1962-02-19 00:00:00|        0.0|  7.0833335| 7.0208335|  7.0208335|  0.91296524|  20400.0|   FL|\n",
      "|1962-02-19 00:00:00| 0.77373797|   0.777494|0.76372194|   0.767478|0.0018262818|1557500.0|   GE|\n",
      "|1962-02-19 00:00:00|        0.0|    10.9375|     10.75|    10.9375|   1.9131781|  22800.0|   GT|\n",
      "|1962-02-19 00:00:00| 0.11264618| 0.11397664|0.11264618|0.113089666| 0.006272347| 591800.0|  HPQ|\n",
      "|1962-02-19 00:00:00|       7.26|  7.2933335|  7.173333|  7.1866665|   0.5825691| 280000.0|  IBM|\n",
      "|1962-02-19 00:00:00|        0.0|   9.003848|  8.822562|   8.882991|   0.7784165|  39300.0|   IP|\n",
      "|1962-02-19 00:00:00|        0.0| 0.23206018|0.23206018| 0.23206018| 6.541049E-7|  43200.0|  JNJ|\n",
      "|1962-02-19 00:00:00| 0.24153645| 0.24348958|0.24153645| 0.24348958| 0.003923037| 345600.0|   KO|\n",
      "|1962-02-19 00:00:00|        0.0| 0.17881945|0.17621528| 0.17708333|2.1674694E-4| 460800.0|   MO|\n",
      "|1962-02-19 00:00:00|        0.0|      280.0|   276.875|    279.375|   124.94374|    600.0|  NAV|\n",
      "|1962-02-19 00:00:00|        0.0|  1.2734375|  1.265625|   1.265625| 0.012011507| 281600.0|   PG|\n",
      "|1962-02-19 00:00:00|        0.0|  1.7460938| 1.7109375|  1.7382812| 0.015494763|1657600.0|  XOM|\n",
      "+-------------------+-----------+-----------+----------+-----------+------------+---------+-----+\n",
      "only showing top 20 rows\n",
      "\n"
     ]
    }
   ],
   "source": [
    "#Read stocks parquet files into spark dataframe\n",
    "stocks_df = spark.read.parquet(r\"data\\processed_data\\1962\\ingested_data\")\n",
    "stocks_df.show()"
   ]
  },
  {
   "cell_type": "markdown",
   "metadata": {},
   "source": [
    "## Metadata \n",
    "\n",
    "Metadata is data containing additional information about the data itself. In the cloud storage, there is a metadata file called [`symbols_valid_meta.csv`](https://processing-big-data-predict-stocks-data.s3.eu-west-1.amazonaws.com/symbols_valid_meta.csv) that is collocated with the stock market data. You will need to download this to use when performing your data quality checks.\n",
    "\n",
    "> ℹ️ **Instructions** ℹ️\n",
    ">\n",
    "> Download the metadata from the S3 bucket and read it into a Spark DataFrame."
   ]
  },
  {
   "cell_type": "code",
   "execution_count": 4,
   "metadata": {},
   "outputs": [
    {
     "name": "stdout",
     "output_type": "stream",
     "text": [
      "+-------------+------+--------------------+----------------+---------------+---+--------------+----------+----------------+----------+-------------+----------+\n",
      "|Nasdaq Traded|Symbol|       Security Name|Listing Exchange|Market Category|ETF|Round Lot Size|Test Issue|Financial Status|CQS Symbol|NASDAQ Symbol|NextShares|\n",
      "+-------------+------+--------------------+----------------+---------------+---+--------------+----------+----------------+----------+-------------+----------+\n",
      "|            Y|     A|Agilent Technolog...|               N|               |  N|         100.0|         N|            NULL|         A|            A|         N|\n",
      "|            Y|    AA|Alcoa Corporation...|               N|               |  N|         100.0|         N|            NULL|        AA|           AA|         N|\n",
      "|            Y|  AAAU|Perth Mint Physic...|               P|               |  Y|         100.0|         N|            NULL|      AAAU|         AAAU|         N|\n",
      "|            Y|  AACG|ATA Creativity Gl...|               Q|              G|  N|         100.0|         N|               N|      NULL|         AACG|         N|\n",
      "|            Y|  AADR|AdvisorShares Dor...|               P|               |  Y|         100.0|         N|            NULL|      AADR|         AADR|         N|\n",
      "|            Y|   AAL|American Airlines...|               Q|              Q|  N|         100.0|         N|               N|      NULL|          AAL|         N|\n",
      "|            Y|  AAMC|Altisource Asset ...|               A|               |  N|         100.0|         N|            NULL|      AAMC|         AAMC|         N|\n",
      "|            Y|  AAME|Atlantic American...|               Q|              G|  N|         100.0|         N|               N|      NULL|         AAME|         N|\n",
      "|            Y|   AAN|Aaron's, Inc. Com...|               N|               |  N|         100.0|         N|            NULL|       AAN|          AAN|         N|\n",
      "|            Y|  AAOI|Applied Optoelect...|               Q|              G|  N|         100.0|         N|               N|      NULL|         AAOI|         N|\n",
      "|            Y|  AAON|AAON, Inc. - Comm...|               Q|              Q|  N|         100.0|         N|               N|      NULL|         AAON|         N|\n",
      "|            Y|   AAP|Advance Auto Part...|               N|               |  N|         100.0|         N|            NULL|       AAP|          AAP|         N|\n",
      "|            Y|  AAPL|Apple Inc. - Comm...|               Q|              Q|  N|         100.0|         N|               N|      NULL|         AAPL|         N|\n",
      "|            Y|   AAT|American Assets T...|               N|               |  N|         100.0|         N|            NULL|       AAT|          AAT|         N|\n",
      "|            Y|   AAU|Almaden Minerals,...|               A|               |  N|         100.0|         N|            NULL|       AAU|          AAU|         N|\n",
      "|            Y|  AAWW|Atlas Air Worldwi...|               Q|              Q|  N|         100.0|         N|               N|      NULL|         AAWW|         N|\n",
      "|            Y|  AAXJ|iShares MSCI All ...|               Q|              G|  Y|         100.0|         N|               N|      NULL|         AAXJ|         N|\n",
      "|            Y|  AAXN|Axon Enterprise, ...|               Q|              Q|  N|         100.0|         N|               N|      NULL|         AAXN|         N|\n",
      "|            Y|    AB|AllianceBernstein...|               N|               |  N|         100.0|         N|            NULL|        AB|           AB|         N|\n",
      "|            Y|   ABB|ABB Ltd Common Stock|               N|               |  N|         100.0|         N|            NULL|       ABB|          ABB|         N|\n",
      "+-------------+------+--------------------+----------------+---------------+---+--------------+----------+----------------+----------+-------------+----------+\n",
      "only showing top 20 rows\n",
      "\n"
     ]
    }
   ],
   "source": [
    "#Read stocks csv files into spark dataframe\n",
    "metadata_df = spark.read.csv(r\"data\\symbols_valid_meta.csv\", header=True)\n",
    "metadata_df.show()\n"
   ]
  },
  {
   "cell_type": "markdown",
   "metadata": {},
   "source": [
    "## Data Accuracy\n",
    "Data accuracy is the degree to which data correctly describes a \"real world\" object or event.\n",
    "\n",
    "It is important to do checks to determine the basic integrity of the dataset; do the values fall within expected ranges?\n",
    "\n",
    "Most of the possible errors relating to data accuracy can occur at collection time. In our case, it is not possible to test the collection time accuracy, so we have to infer from ranges and summary statistics. Here you need to look closely at each field to see if its values make sense, with no strange surprises.\n",
    "\n",
    "In assessing accuracy, it is important to look into precision as well. Do you need seven decimals, or will one or two suffice?\n",
    "\n",
    "- **Measured by**: The degree to which the data mirrors the characteristics of the real-world object or objects it represents;\n",
    "- **Units**: The percentage of data entries that pass the data accuracy rules;\n",
    "- **Related to**: Validity, Uniqueness, Consistency."
   ]
  },
  {
   "cell_type": "markdown",
   "metadata": {},
   "source": [
    "> ℹ️ **Instructions** ℹ️\n",
    ">\n",
    "> Generate summary statistics to explore your data. Make sure you understand the ranges, means, extremums, and deviations found in the data set."
   ]
  },
  {
   "cell_type": "code",
   "execution_count": 5,
   "metadata": {},
   "outputs": [
    {
     "name": "stdout",
     "output_type": "stream",
     "text": [
      "+-------+------------------+------------------+------------------+-----------------+-----------------+-----------------+-----+\n",
      "|summary|              open|              high|               low|            close|        adj_close|           volume|stock|\n",
      "+-------+------------------+------------------+------------------+-----------------+-----------------+-----------------+-----+\n",
      "|  count|              5106|              5106|              5064|             5106|             5085|             5085| 5106|\n",
      "|   mean|1.0904873526012002|16.757624946793637|15.728619917198033|16.64199179044607|5.986642513535306|540930.2458210423| NULL|\n",
      "| stddev|  2.36445352530491| 53.91407348193546| 51.32292289814399|53.54677139900802|24.64637054715319|864596.2440525505| NULL|\n",
      "|    min|               0.0|               0.0|       0.052377883|      0.053624976|     4.0381454E-7|              0.0|   AA|\n",
      "|    max|              20.0|             287.5|             282.5|            285.0|        127.45936|        1.95456E7|  XOM|\n",
      "+-------+------------------+------------------+------------------+-----------------+-----------------+-----------------+-----+\n",
      "\n"
     ]
    }
   ],
   "source": [
    "#Generate summary statistics\n",
    "stocks_df.describe().show()"
   ]
  },
  {
   "cell_type": "markdown",
   "metadata": {},
   "source": [
    "> ℹ️ **Instructions** ℹ️\n",
    ">\n",
    "> Generate histograms for the six numerical attributes found in the data to understand the distribution of values.\n",
    ">\n",
    ">*You may use as many coding cells as necessary.*"
   ]
  },
  {
   "cell_type": "code",
   "execution_count": 6,
   "metadata": {},
   "outputs": [
    {
     "name": "stdout",
     "output_type": "stream",
     "text": [
      "['open', 'high', 'low', 'close', 'adj_close', 'volume']\n"
     ]
    },
    {
     "data": {
      "image/png": "[encoded data removed]",
      "text/plain": [
       "<Figure size 640x480 with 1 Axes>"
      ]
     },
     "metadata": {},
     "output_type": "display_data"
    },
    {
     "data": {
      "image/png": "[encoded data removed]",
      "text/plain": [
       "<Figure size 640x480 with 1 Axes>"
      ]
     },
     "metadata": {},
     "output_type": "display_data"
    },
    {
     "data": {
      "image/png": "[encoded data removed]",
      "text/plain": [
       "<Figure size 640x480 with 1 Axes>"
      ]
     },
     "metadata": {},
     "output_type": "display_data"
    },
    {
     "data": {
      "image/png": "[encoded data removed]",
      "text/plain": [
       "<Figure size 640x480 with 1 Axes>"
      ]
     },
     "metadata": {},
     "output_type": "display_data"
    },
    {
     "data": {
      "image/png": "[encoded data removed]",
      "text/plain": [
       "<Figure size 640x480 with 1 Axes>"
      ]
     },
     "metadata": {},
     "output_type": "display_data"
    },
    {
     "data": {
      "image/png": "[encoded data removed]",
      "text/plain": [
       "<Figure size 640x480 with 1 Axes>"
      ]
     },
     "metadata": {},
     "output_type": "display_data"
    }
   ],
   "source": [
    "#Histogram for distribution of the six numeral fields\n",
    "\n",
    "#Numerical fields\n",
    "numerical_fields = [field[0] for field in stocks_df.dtypes if field[1] == 'float' or field[1] == 'integer']\n",
    "print(numerical_fields)\n",
    "\n",
    "# Create a histogram for each numerical field\n",
    "for field in numerical_fields:\n",
    "    # Get the data for the field\n",
    "    data = stocks_df.select(field).rdd.flatMap(lambda x: x).filter(lambda x: x is not None).collect()\n",
    "    \n",
    "    # Plot the histogram\n",
    "    plt.figure()\n",
    "    plt.hist(data, bins=10, edgecolor='k', alpha=0.7)\n",
    "    plt.title(f\"Histogram of {field}\")\n",
    "    plt.xlabel(field)\n",
    "    plt.ylabel(\"Frequency\")\n",
    "    plt.show()"
   ]
  },
  {
   "cell_type": "markdown",
   "metadata": {},
   "source": [
    "> ℹ️ **Instructions** ℹ️\n",
    ">\n",
    "> Investigate the **open** column to identify stocks that have open values greater than 2, and note any anomalies that you find in the data.\n",
    ">\n",
    ">*You may use as many coding cells as necessary.*"
   ]
  },
  {
   "cell_type": "code",
   "execution_count": 7,
   "metadata": {},
   "outputs": [
    {
     "name": "stdout",
     "output_type": "stream",
     "text": [
      "+-----+---------+-----------+\n",
      "|stock|max(open)|count(open)|\n",
      "+-----+---------+-----------+\n",
      "|   PG|     20.0|         23|\n",
      "|  IBM| 7.713333|        252|\n",
      "|   AA| 6.764445|        252|\n",
      "| ARNC| 6.360101|        231|\n",
      "|ARNCA| 5.387931|         21|\n",
      "+-----+---------+-----------+\n",
      "\n"
     ]
    }
   ],
   "source": [
    "#Investigate open field data\n",
    "stocks_df.filter(F.col(\"open\") > 2).groupBy(F.col(\"stock\")).agg(F.max(F.col(\"open\")),F.count(F.col(\"open\"))).sort(\"max(open)\", ascending=False).show()"
   ]
  },
  {
   "cell_type": "code",
   "execution_count": 8,
   "metadata": {},
   "outputs": [
    {
     "name": "stdout",
     "output_type": "stream",
     "text": [
      "+-----+---------+-----------+\n",
      "|stock|min(open)|count(open)|\n",
      "+-----+---------+-----------+\n",
      "|   PG|     20.0|         23|\n",
      "|ARNCA|4.9194155|         21|\n",
      "|   AA|  4.65381|        252|\n",
      "| ARNC|4.3806224|        231|\n",
      "|  IBM|     4.08|        252|\n",
      "+-----+---------+-----------+\n",
      "\n"
     ]
    }
   ],
   "source": [
    "#Investigate open field data\n",
    "stocks_df.filter(F.col(\"open\") > 2).groupBy(F.col(\"stock\")).agg(F.min(F.col(\"open\")),F.count(F.col(\"open\"))).sort(\"min(open)\", ascending=False).show()"
   ]
  },
  {
   "cell_type": "code",
   "execution_count": 9,
   "metadata": {},
   "outputs": [
    {
     "name": "stdout",
     "output_type": "stream",
     "text": [
      "+-----+----+-----+\n",
      "|stock|open|count|\n",
      "+-----+----+-----+\n",
      "|   PG|20.0|   23|\n",
      "+-----+----+-----+\n",
      "\n"
     ]
    }
   ],
   "source": [
    "# Looking at the PG stock\n",
    "stocks_df.filter((F.col(\"open\") > 2) & (F.col(\"stock\") == \"PG\")).groupBy(F.col(\"stock\"), F.col(\"open\")).count().show()"
   ]
  },
  {
   "cell_type": "markdown",
   "metadata": {},
   "source": [
    " ## 📔️**Notes** 📔️\n",
    "\n",
    " *Use this cell to note down any potential findings.*\n",
    "\n",
    " 1. Only 5 stocks have open values that are greater than 2\n",
    " 2. The stock PG has an unusually high open value of 20 - and all of those values are exactly the value 20.\n",
    " 3. The open value of the remaining 4 stocks ranges between 4 and 8. Nothing between 2 and 4.\n",
    " "
   ]
  },
  {
   "cell_type": "markdown",
   "metadata": {},
   "source": [
    "> ℹ️ **Instructions** ℹ️\n",
    ">\n",
    "> Investigate **high**, **low**, **close**, and **adj_close** to determine if any stocks may be deviating from the normal ranges of the data set. Note down the stock(s) that you come across.\n",
    ">\n",
    ">*You may use as many coding cells as necessary.*"
   ]
  },
  {
   "cell_type": "code",
   "execution_count": 10,
   "metadata": {},
   "outputs": [
    {
     "name": "stdout",
     "output_type": "stream",
     "text": [
      "+-----+---------+-----------+\n",
      "|stock|max(high)|count(high)|\n",
      "+-----+---------+-----------+\n",
      "|  NAV|    287.5|        252|\n",
      "+-----+---------+-----------+\n",
      "\n"
     ]
    }
   ],
   "source": [
    "#Looking at the high field data\n",
    "stocks_df.filter(F.col(\"high\") > 60).groupby(F.col(\"stock\")).agg(F.max(F.col(\"high\")),F.count(F.col(\"high\"))).sort(F.col(\"count(high)\"), ascending=False).show()"
   ]
  },
  {
   "cell_type": "code",
   "execution_count": 11,
   "metadata": {},
   "outputs": [
    {
     "name": "stdout",
     "output_type": "stream",
     "text": [
      "+-----+---------+-----------+\n",
      "|stock|min(high)|count(high)|\n",
      "+-----+---------+-----------+\n",
      "|  NAV|  221.875|        252|\n",
      "+-----+---------+-----------+\n",
      "\n"
     ]
    }
   ],
   "source": [
    "#Looking at the high field data\n",
    "stocks_df.filter(F.col(\"high\") > 60).groupby(F.col(\"stock\")).agg(F.min(F.col(\"high\")),F.count(F.col(\"high\"))).sort(F.col(\"count(high)\"), ascending=False).show()"
   ]
  },
  {
   "cell_type": "code",
   "execution_count": 12,
   "metadata": {},
   "outputs": [
    {
     "name": "stdout",
     "output_type": "stream",
     "text": [
      "+-----+-------+-----------+\n",
      "|stock|   high|count(high)|\n",
      "+-----+-------+-----------+\n",
      "|  NAV|234.375|         13|\n",
      "|  NAV|231.875|         10|\n",
      "|  NAV| 231.25|          8|\n",
      "|  NAV|249.375|          6|\n",
      "|  NAV|244.375|          6|\n",
      "|  NAV|  262.5|          6|\n",
      "|  NAV|  230.0|          6|\n",
      "|  NAV|  235.0|          6|\n",
      "|  NAV|  247.5|          6|\n",
      "|  NAV|  265.0|          6|\n",
      "|  NAV| 276.25|          6|\n",
      "|  NAV|274.375|          5|\n",
      "|  NAV|269.375|          5|\n",
      "|  NAV|239.375|          5|\n",
      "|  NAV| 248.75|          5|\n",
      "|  NAV|  232.5|          5|\n",
      "|  NAV| 228.75|          4|\n",
      "|  NAV|265.625|          4|\n",
      "|  NAV|268.125|          4|\n",
      "|  NAV|264.375|          4|\n",
      "+-----+-------+-----------+\n",
      "only showing top 20 rows\n",
      "\n"
     ]
    }
   ],
   "source": [
    "#Looking at the high field data\n",
    "stocks_df.filter(F.col(\"high\") > 60).groupby(F.col(\"stock\"),F.col(\"high\")).agg(F.count(F.col(\"high\"))).sort(F.col(\"count(high)\"), ascending=False).show()"
   ]
  },
  {
   "cell_type": "code",
   "execution_count": 13,
   "metadata": {},
   "outputs": [
    {
     "name": "stdout",
     "output_type": "stream",
     "text": [
      "+-----+--------+----------+\n",
      "|stock|max(low)|count(low)|\n",
      "+-----+--------+----------+\n",
      "|  NAV|   282.5|       232|\n",
      "+-----+--------+----------+\n",
      "\n"
     ]
    }
   ],
   "source": [
    "#Looking at the low field data\n",
    "stocks_df.filter(F.col(\"low\") > 60).groupby(F.col(\"stock\")).agg(F.max(F.col(\"low\")),F.count(F.col(\"low\"))).sort(F.col(\"count(low)\"), ascending=False).show()"
   ]
  },
  {
   "cell_type": "code",
   "execution_count": 14,
   "metadata": {},
   "outputs": [
    {
     "name": "stdout",
     "output_type": "stream",
     "text": [
      "+-----+--------+----------+\n",
      "|stock|min(low)|count(low)|\n",
      "+-----+--------+----------+\n",
      "|  NAV|   217.5|       232|\n",
      "+-----+--------+----------+\n",
      "\n"
     ]
    }
   ],
   "source": [
    "#Looking at the low field data\n",
    "stocks_df.filter(F.col(\"low\") > 60).groupby(F.col(\"stock\")).agg(F.min(F.col(\"low\")),F.count(F.col(\"low\"))).sort(F.col(\"count(low)\"), ascending=False).show()"
   ]
  },
  {
   "cell_type": "code",
   "execution_count": 15,
   "metadata": {},
   "outputs": [
    {
     "name": "stdout",
     "output_type": "stream",
     "text": [
      "+-----+-------+----------+\n",
      "|stock|    low|count(low)|\n",
      "+-----+-------+----------+\n",
      "|  NAV|  230.0|         8|\n",
      "|  NAV|230.625|         8|\n",
      "|  NAV|228.125|         8|\n",
      "|  NAV| 226.25|         7|\n",
      "|  NAV|  227.5|         7|\n",
      "|  NAV|233.125|         7|\n",
      "|  NAV|225.625|         6|\n",
      "|  NAV|276.875|         6|\n",
      "|  NAV| 261.25|         5|\n",
      "|  NAV|  232.5|         5|\n",
      "|  NAV|265.625|         4|\n",
      "|  NAV|  272.5|         4|\n",
      "|  NAV|270.625|         4|\n",
      "|  NAV|  252.5|         4|\n",
      "|  NAV|  260.0|         4|\n",
      "|  NAV| 221.25|         4|\n",
      "|  NAV| 243.75|         4|\n",
      "|  NAV| 231.25|         4|\n",
      "|  NAV|260.625|         4|\n",
      "|  NAV|  265.0|         4|\n",
      "+-----+-------+----------+\n",
      "only showing top 20 rows\n",
      "\n"
     ]
    }
   ],
   "source": [
    "#Looking at the low field data\n",
    "stocks_df.filter(F.col(\"low\") > 60).groupby(F.col(\"stock\"),F.col(\"low\")).agg(F.count(F.col(\"low\"))).sort(F.col(\"count(low)\"), ascending=False).show()"
   ]
  },
  {
   "cell_type": "code",
   "execution_count": 16,
   "metadata": {},
   "outputs": [
    {
     "name": "stdout",
     "output_type": "stream",
     "text": [
      "+-----+----------+------------+\n",
      "|stock|max(close)|count(close)|\n",
      "+-----+----------+------------+\n",
      "|  NAV|     285.0|         252|\n",
      "+-----+----------+------------+\n",
      "\n"
     ]
    }
   ],
   "source": [
    "#Looking at the close field data\n",
    "stocks_df.filter(F.col(\"close\") > 60).groupby(F.col(\"stock\")).agg(F.max(F.col(\"close\")),F.count(F.col(\"close\"))).sort(F.col(\"count(close)\"), ascending=False).show()"
   ]
  },
  {
   "cell_type": "code",
   "execution_count": 17,
   "metadata": {},
   "outputs": [
    {
     "name": "stdout",
     "output_type": "stream",
     "text": [
      "+-----+----------+------------+\n",
      "|stock|min(close)|count(close)|\n",
      "+-----+----------+------------+\n",
      "|  NAV|   219.375|         252|\n",
      "+-----+----------+------------+\n",
      "\n"
     ]
    }
   ],
   "source": [
    "#Looking at the close field data\n",
    "stocks_df.filter(F.col(\"close\") > 60).groupby(F.col(\"stock\")).agg(F.min(F.col(\"close\")),F.count(F.col(\"close\"))).sort(F.col(\"count(close)\"), ascending=False).show()"
   ]
  },
  {
   "cell_type": "code",
   "execution_count": 18,
   "metadata": {},
   "outputs": [
    {
     "name": "stdout",
     "output_type": "stream",
     "text": [
      "+-----+-------+------------+\n",
      "|stock|  close|count(close)|\n",
      "+-----+-------+------------+\n",
      "|  NAV| 231.25|          10|\n",
      "|  NAV| 273.75|           8|\n",
      "|  NAV|  230.0|           8|\n",
      "|  NAV| 233.75|           8|\n",
      "|  NAV|  247.5|           7|\n",
      "|  NAV|234.375|           7|\n",
      "|  NAV| 266.25|           6|\n",
      "|  NAV|244.375|           6|\n",
      "|  NAV| 226.25|           5|\n",
      "|  NAV|238.125|           5|\n",
      "|  NAV|264.375|           5|\n",
      "|  NAV|  235.0|           5|\n",
      "|  NAV| 248.75|           5|\n",
      "|  NAV| 276.25|           5|\n",
      "|  NAV| 236.25|           5|\n",
      "|  NAV| 271.25|           4|\n",
      "|  NAV| 261.25|           4|\n",
      "|  NAV|248.125|           4|\n",
      "|  NAV|229.375|           4|\n",
      "|  NAV|231.875|           4|\n",
      "+-----+-------+------------+\n",
      "only showing top 20 rows\n",
      "\n"
     ]
    }
   ],
   "source": [
    "#Looking at the close field data\n",
    "stocks_df.filter(F.col(\"close\") > 60).groupby(F.col(\"stock\"),F.col(\"close\")).agg(F.count(F.col(\"close\"))).sort(F.col(\"count(close)\"), ascending=False).show()"
   ]
  },
  {
   "cell_type": "code",
   "execution_count": 19,
   "metadata": {},
   "outputs": [
    {
     "name": "stdout",
     "output_type": "stream",
     "text": [
      "+-----+--------------+----------------+\n",
      "|stock|max(adj_close)|count(adj_close)|\n",
      "+-----+--------------+----------------+\n",
      "|  NAV|     127.45936|             252|\n",
      "+-----+--------------+----------------+\n",
      "\n"
     ]
    }
   ],
   "source": [
    "#Looking at the adj_close field data\n",
    "stocks_df.filter(F.col(\"adj_close\") > 20).groupby(F.col(\"stock\")).agg(F.max(F.col(\"adj_close\")),F.count(F.col(\"adj_close\"))).sort(F.col(\"count(adj_close)\"), ascending=False).show()"
   ]
  },
  {
   "cell_type": "code",
   "execution_count": 20,
   "metadata": {},
   "outputs": [
    {
     "name": "stdout",
     "output_type": "stream",
     "text": [
      "+-----+--------------+----------------+\n",
      "|stock|min(adj_close)|count(adj_close)|\n",
      "+-----+--------------+----------------+\n",
      "|  NAV|     101.66623|             252|\n",
      "+-----+--------------+----------------+\n",
      "\n"
     ]
    }
   ],
   "source": [
    "#Looking at the adj_close field data\n",
    "stocks_df.filter(F.col(\"adj_close\") > 20).groupby(F.col(\"stock\")).agg(F.min(F.col(\"adj_close\")),F.count(F.col(\"adj_close\"))).sort(F.col(\"count(adj_close)\"), ascending=False).show()"
   ]
  },
  {
   "cell_type": "code",
   "execution_count": 21,
   "metadata": {},
   "outputs": [
    {
     "name": "stdout",
     "output_type": "stream",
     "text": [
      "+-----+----------+----------------+\n",
      "|stock| adj_close|count(adj_close)|\n",
      "+-----+----------+----------------+\n",
      "|  NAV|106.930336|               7|\n",
      "|  NAV| 107.16955|               5|\n",
      "|  NAV|107.216255|               5|\n",
      "|  NAV|105.786705|               5|\n",
      "|  NAV|  107.5022|               5|\n",
      "|  NAV|  114.7004|               5|\n",
      "|  NAV| 123.74807|               5|\n",
      "|  NAV|105.214905|               4|\n",
      "|  NAV| 104.56268|               4|\n",
      "|  NAV|105.721306|               4|\n",
      "|  NAV|118.235344|               4|\n",
      "|  NAV|119.073845|               4|\n",
      "|  NAV| 106.59025|               4|\n",
      "|  NAV| 117.39678|               4|\n",
      "|  NAV|106.300606|               4|\n",
      "|  NAV| 108.93175|               4|\n",
      "|  NAV|121.205284|               3|\n",
      "|  NAV| 119.22756|               3|\n",
      "|  NAV|105.431656|               3|\n",
      "|  NAV| 122.42809|               3|\n",
      "+-----+----------+----------------+\n",
      "only showing top 20 rows\n",
      "\n"
     ]
    }
   ],
   "source": [
    "#Looking at the adj_close field data\n",
    "stocks_df.filter(F.col(\"adj_close\") > 60).groupby(F.col(\"stock\"),F.col(\"adj_close\")).agg(F.count(F.col(\"adj_close\"))).sort(F.col(\"count(adj_close)\"), ascending=False).show()"
   ]
  },
  {
   "cell_type": "markdown",
   "metadata": {},
   "source": [
    " ## 📔️**Notes** 📔️\n",
    "\n",
    " *Use this cell to note down any potential findings.*\n",
    "\n",
    " 1. Only the stock NAV has high prices greater than 60. These high prices of the NAV stock range between 221 and 288. No high prices between 60 and 221 - which is a huge jump.\n",
    " 2. Only the stock NAV has low prices greater than 60. These low prices of the NAV stock range between 217 and 232. No low prices between 60 and 217 - which is a huge jump.\n",
    " 3. Only the stock NAV has close prices greater than 60. These close prices of the NAV stock range between 219 and 285. No close prices between 60 and 219 - which is a huge jump.\n",
    " 4. Only the stock NAV has adj_close prices greater than 20. These adj_close prices of the NAV stock range between 101 and 128. No adj_close prices between 20 and 101 - which is a huge jump.\n",
    "    ..."
   ]
  },
  {
   "cell_type": "markdown",
   "metadata": {},
   "source": [
    "\n",
    "\n",
    "## Completeness\n",
    "\n",
    "Completeness is the proportion of stored data against the potential of “100% complete\". This is the degree to which the required data is in the dataset. \n",
    "\n",
    "Does the dataset have missing values, or if it is time-series data, does it have time period gaps? Has a bias been introduced that may change your assumptions or affect your results?\n",
    "\n",
    "Completeness issues can occur at the row level (gaps within the dataset) or the field level (one entry missing). At the field level, entire fields can being empty, or >80% of a field's data missing. \n",
    "\n",
    "Another issue that may occur is default values. A typical example of this is where a logger sends back a 0 instead of a null value, which can greatly skew any attempts at modelling. This is where it is instrumental to employ domain knowledge when assessing a dataset. \n",
    "\n",
    "- **Measured by**: A measure of the absence of blank (null) values or the presence of non-blank values;\n",
    "- **Units**: Percentage;\n",
    "- **Related to**: Validity and Accuracy."
   ]
  },
  {
   "cell_type": "markdown",
   "metadata": {},
   "source": [
    "### Missing values\n",
    "\n",
    "> ℹ️ **Instructions** ℹ️\n",
    ">\n",
    "> Write code to identify and count the number of missing values (nulls) in the dataset. Include a percentage to describe the proportion of missing values per column. Output the results in the following manner:\n",
    ">\n",
    "> `There are <number_of_missing_values> (<percentage>) null values in <column_name> column`\n",
    ">\n",
    ">*You may use as many coding cells as necessary.*"
   ]
  },
  {
   "cell_type": "code",
   "execution_count": 22,
   "metadata": {},
   "outputs": [
    {
     "name": "stdout",
     "output_type": "stream",
     "text": [
      "There are 0 (0.0) null values in date colum\n",
      "There are 0 (0.0) null values in open colum\n",
      "There are 0 (0.0) null values in high colum\n",
      "There are 42 (0.008225616921269096) null values in low colum\n",
      "There are 0 (0.0) null values in close colum\n",
      "There are 21 (0.004112808460634548) null values in adj_close colum\n",
      "There are 21 (0.004112808460634548) null values in volume colum\n",
      "There are 0 (0.0) null values in stock colum\n"
     ]
    }
   ],
   "source": [
    "#Missing values proportion in columns\n",
    "for column in stocks_df.columns:\n",
    "    no_missing_values = stocks_df.select(F.col(column)).where(F.col(column).isNull()).count()\n",
    "    percentage_missing_values = no_missing_values / stocks_df.count()\n",
    "    print(f\"There are {no_missing_values} ({percentage_missing_values}) null values in {column} colum\")"
   ]
  },
  {
   "cell_type": "markdown",
   "metadata": {},
   "source": [
    "### Columns with missing values"
   ]
  },
  {
   "cell_type": "markdown",
   "metadata": {},
   "source": [
    "\n",
    "> ℹ️ **Instructions** ℹ️\n",
    ">\n",
    "> From the above result, probe the columns that are affected by the missing data to find out which stocks were affected.\n",
    ">\n",
    ">*You may use as many coding cells as necessary.*"
   ]
  },
  {
   "cell_type": "code",
   "execution_count": 23,
   "metadata": {},
   "outputs": [
    {
     "name": "stdout",
     "output_type": "stream",
     "text": [
      "+-----+-----------------------+\n",
      "|stock|Null count in low field|\n",
      "+-----+-----------------------+\n",
      "|  CAT|                     22|\n",
      "|  NAV|                     20|\n",
      "+-----+-----------------------+\n",
      "\n",
      "+-----+-----------------------------+\n",
      "|stock|Null count in adj_close field|\n",
      "+-----+-----------------------------+\n",
      "|   FL|                           21|\n",
      "+-----+-----------------------------+\n",
      "\n",
      "+-----+--------------------------+\n",
      "|stock|Null count in volume field|\n",
      "+-----+--------------------------+\n",
      "|  JNJ|                        21|\n",
      "+-----+--------------------------+\n",
      "\n"
     ]
    }
   ],
   "source": [
    "#probe stocks affected by columns with null values\n",
    "fields_with_nulls = [\"low\",\"adj_close\",\"volume\"]\n",
    "\n",
    "for field in fields_with_nulls:\n",
    "    stocks_df.where(F.col(field).isNull()).groupBy(F.col(\"stock\")).count().withColumnRenamed(\"count\", f\"Null count in {field} field\").show()"
   ]
  },
  {
   "cell_type": "markdown",
   "metadata": {},
   "source": [
    "#### Fix Completeness\n",
    "\n",
    "How do we deal with incomplete data?\n",
    "- Dropping missing values\n",
    "- Discard the incomplete column\n",
    "- Discard the rows containing missing data\n",
    "- Case deletion\n",
    "\n",
    "> ℹ️ **Instructions** ℹ️\n",
    ">\n",
    "> Use the appropriate strategy to remedy the missing data. \n",
    ">\n",
    ">*You may use as many coding cells as necessary.*"
   ]
  },
  {
   "cell_type": "code",
   "execution_count": 25,
   "metadata": {},
   "outputs": [
    {
     "name": "stdout",
     "output_type": "stream",
     "text": [
      "+-------+------------------+------------------+------------------+------------------+-----------------+-----------------+-----+\n",
      "|summary|              open|              high|               low|             close|        adj_close|           volume|stock|\n",
      "+-------+------------------+------------------+------------------+------------------+-----------------+-----------------+-----+\n",
      "|  count|              5022|              5022|              5022|              5022|             5022|             5022| 5022|\n",
      "|   mean|1.1014219280169133|16.028819454351698|15.836436763646883|15.915820842197855|5.606189711274126|546946.4157706093| NULL|\n",
      "| stddev|2.3807362974077337| 52.38064752170326| 51.52295147206575|  52.0129707627932|23.83142762579132| 868294.708934432| NULL|\n",
      "|    min|               0.0|               0.0|       0.052377883|       0.053624976|     4.0381454E-7|              0.0|   AA|\n",
      "|    max|              20.0|             287.5|             282.5|             285.0|        127.45936|        1.95456E7|  XOM|\n",
      "+-------+------------------+------------------+------------------+------------------+-----------------+-----------------+-----+\n",
      "\n"
     ]
    }
   ],
   "source": [
    "#discard missing values\n",
    "completed_stocks_df = stocks_df.dropna()\n",
    "completed_stocks_df.describe().show()"
   ]
  },
  {
   "cell_type": "markdown",
   "metadata": {},
   "source": [
    "### Zero Values\n",
    "\n",
    "Take a deeper look into the entries with many zero values."
   ]
  },
  {
   "cell_type": "markdown",
   "metadata": {},
   "source": [
    "#### Fix Completeness\n",
    "\n",
    "Completeness issues can be fixed through imputation of the missing data through:\n",
    "- imputation by mean/mode/median;\n",
    "- regression; or\n",
    "- KNN.\n",
    " \n",
    "> ℹ️ **Instructions** ℹ️\n",
    ">\n",
    "> Write code to identify and count the number of zeros (0) in the dataset. Include a percentage to describe the proportion of missing values per column. Output the results in the following manner:\n",
    ">\n",
    "> `There are <number_of_zeros> (<percentage>) zero values in <column_name> column`\n",
    ">\n",
    ">*You may use as many coding cells as necessary.*"
   ]
  },
  {
   "cell_type": "code",
   "execution_count": 40,
   "metadata": {},
   "outputs": [
    {
     "data": {
      "text/plain": [
       "'timestamp'"
      ]
     },
     "execution_count": 40,
     "metadata": {},
     "output_type": "execute_result"
    }
   ],
   "source": [
    "completed_stocks_df.select(column_name).dtypes[0][1]"
   ]
  },
  {
   "cell_type": "code",
   "execution_count": 42,
   "metadata": {},
   "outputs": [
    {
     "name": "stdout",
     "output_type": "stream",
     "text": [
      "There are 2706 (0.5388291517323776) zero values in open column\n",
      "There are 20 (0.00398247710075667) zero values in high column\n",
      "There are 27 (0.005376344086021506) zero values in volume column\n"
     ]
    }
   ],
   "source": [
    "#Investigate zero values\n",
    "for column_name in completed_stocks_df.columns:\n",
    "    if completed_stocks_df.select(column_name).dtypes[0][1] in ['float','integer']:\n",
    "        zero_count = completed_stocks_df.where(F.col(column_name) == 0).count()\n",
    "\n",
    "        if zero_count > 0:\n",
    "            percent_zero_count = zero_count / completed_stocks_df.count()\n",
    "            print(f\"There are {zero_count} ({percent_zero_count}) zero values in {column_name} column\")"
   ]
  },
  {
   "cell_type": "markdown",
   "metadata": {},
   "source": [
    "From the above section, you find that there are a few columns that contain zero values. However, some of these are true zeros and are explainable. Your task is to distinguish which column should undergo data imputation.\n",
    "\n",
    "> ℹ️ **Instructions** ℹ️\n",
    ">\n",
    "> Investigate the columns with zero values and determine which one should undergo data imputation. Take note of the stock and month on which zero values occurred.\n",
    ">\n",
    ">*You may use as many coding cells as necessary.*"
   ]
  },
  {
   "cell_type": "code",
   "execution_count": 77,
   "metadata": {},
   "outputs": [
    {
     "name": "stdout",
     "output_type": "stream",
     "text": [
      "+-------------+-----+-------------+\n",
      "|month_of_year|stock|zeros_in_open|\n",
      "+-------------+-----+-------------+\n",
      "|            1|  CVX|           22|\n",
      "|            1|  DTE|           22|\n",
      "|            1|   ED|           22|\n",
      "|            1|   FL|           22|\n",
      "|            1|   GT|           22|\n",
      "|            1|   IP|           22|\n",
      "|            1|  JNJ|           22|\n",
      "|            1|   MO|           22|\n",
      "|            1|  NAV|           22|\n",
      "|            1|   PG|           22|\n",
      "|            1|  XOM|           22|\n",
      "|            2|  CVX|           19|\n",
      "|            2|  DTE|           19|\n",
      "|            2|   ED|           19|\n",
      "|            2|   FL|           19|\n",
      "|            2|   GT|           19|\n",
      "|            2|   IP|           19|\n",
      "|            2|  JNJ|           19|\n",
      "|            2|   MO|           19|\n",
      "|            2|  NAV|           19|\n",
      "+-------------+-----+-------------+\n",
      "only showing top 20 rows\n",
      "\n",
      "+-------------+-----+-------------+\n",
      "|month_of_year|stock|zeros_in_high|\n",
      "+-------------+-----+-------------+\n",
      "|           11|  CAT|           20|\n",
      "+-------------+-----+-------------+\n",
      "\n",
      "+-------------+-----+---------------+\n",
      "|month_of_year|stock|zeros_in_volume|\n",
      "+-------------+-----+---------------+\n",
      "|            1|  JNJ|              1|\n",
      "|            4|  JNJ|              1|\n",
      "|            5|  XOM|             22|\n",
      "|            9|  JNJ|              1|\n",
      "|           10|  JNJ|              1|\n",
      "|           11|   GE|              1|\n",
      "+-------------+-----+---------------+\n",
      "\n"
     ]
    }
   ],
   "source": [
    "#Investigate zero values\n",
    "for column_name in completed_stocks_df.columns:\n",
    "    if completed_stocks_df.select(column_name).dtypes[0][1] in ['float','integer']:\n",
    "        zero_count = completed_stocks_df.where(F.col(column_name) == 0).count()\n",
    "\n",
    "        if zero_count > 0:\n",
    "            completed_stocks_df.where(F.col(column_name) == 0).withColumn(\"month_of_year\", F.month(F.col(\"date\"))).groupBy(F.col(\"month_of_year\"),F.col(\"stock\")).count()\\\n",
    "                .withColumnRenamed('count',f'zeros_in_{column_name}').sort([F.col(\"month_of_year\"), F.col(\"stock\")]).show()"
   ]
  },
  {
   "cell_type": "markdown",
   "metadata": {},
   "source": [
    "> ℹ️ **Instructions** ℹ️\n",
    ">\n",
    "> Once you have identified the column that needs to undergo imputation, update the values for the affected records by using the average value for the affected stock.\n",
    ">\n",
    ">*You may use as many coding cells as necessary.*"
   ]
  },
  {
   "cell_type": "code",
   "execution_count": 76,
   "metadata": {},
   "outputs": [
    {
     "name": "stdout",
     "output_type": "stream",
     "text": [
      "+-------------------+-------------------+-----------+----------+-----------+------------+---------+-----+\n",
      "|               date|               open|       high|       low|      close|   adj_close|   volume|stock|\n",
      "+-------------------+-------------------+-----------+----------+-----------+------------+---------+-----+\n",
      "|1962-02-19 00:00:00|  5.839290142059326|   5.907375|   5.83929|    5.86332|   1.3863293|  29900.0|   AA|\n",
      "|1962-02-19 00:00:00|  5.481634140014648|   5.528486|  5.481634|  5.5167727|   1.2804527|  32000.0| ARNC|\n",
      "|1962-02-19 00:00:00| 0.9074074029922485| 0.91563785|0.89917696|  0.9032922|  0.16141544| 619400.0|   BA|\n",
      "|1962-02-19 00:00:00| 1.6770833730697632|  1.6927084| 1.6614584|  1.6770834|   0.1440587| 170400.0|  CAT|\n",
      "|1962-02-19 00:00:00|  2.388316460492633|   3.578869|      20.0|   3.549107| 0.056501225| 273600.0|  CVX|\n",
      "|1962-02-19 00:00:00|0.09976739436388016|0.099767394|0.09820853| 0.09820853| 0.037543412| 817400.0|  DIS|\n",
      "|1962-02-19 00:00:00|  2.388316460492633|    29.9375|     29.75|    29.9375|  0.49964145|   1600.0|  DTE|\n",
      "|1962-02-19 00:00:00|  2.388316460492633|   9.921875|  9.890625|   9.921875|  0.22499175|   8800.0|   ED|\n",
      "|1962-02-19 00:00:00|  2.388316460492633|  7.0833335| 7.0208335|  7.0208335|  0.91296524|  20400.0|   FL|\n",
      "|1962-02-19 00:00:00| 0.7737379670143127|   0.777494|0.76372194|   0.767478|0.0018262818|1557500.0|   GE|\n",
      "|1962-02-19 00:00:00|  2.388316460492633|    10.9375|     10.75|    10.9375|   1.9131781|  22800.0|   GT|\n",
      "|1962-02-19 00:00:00| 0.1126461774110794| 0.11397664|0.11264618|0.113089666| 0.006272347| 591800.0|  HPQ|\n",
      "|1962-02-19 00:00:00|  7.260000228881836|  7.2933335|  7.173333|  7.1866665|   0.5825691| 280000.0|  IBM|\n",
      "|1962-02-19 00:00:00|  2.388316460492633|   9.003848|  8.822562|   8.882991|   0.7784165|  39300.0|   IP|\n",
      "|1962-02-19 00:00:00|  2.388316460492633| 0.23206018|0.23206018| 0.23206018| 6.541049E-7|  43200.0|  JNJ|\n",
      "|1962-02-19 00:00:00| 0.2415364533662796| 0.24348958|0.24153645| 0.24348958| 0.003923037| 345600.0|   KO|\n",
      "|1962-02-19 00:00:00|  2.388316460492633| 0.17881945|0.17621528| 0.17708333|2.1674694E-4| 460800.0|   MO|\n",
      "|1962-02-19 00:00:00|  2.388316460492633|      280.0|   276.875|    279.375|   124.94374|    600.0|  NAV|\n",
      "|1962-02-19 00:00:00|  2.388316460492633|  1.2734375|  1.265625|   1.265625| 0.012011507| 281600.0|   PG|\n",
      "|1962-02-19 00:00:00|  2.388316460492633|  1.7460938| 1.7109375|  1.7382812| 0.015494763|1657600.0|  XOM|\n",
      "+-------------------+-------------------+-----------+----------+-----------+------------+---------+-----+\n",
      "only showing top 20 rows\n",
      "\n"
     ]
    }
   ],
   "source": [
    "#imputation\n",
    "mean_open = completed_stocks_df.where(~(F.col(\"open\") == 0)).agg(F.mean(F.col(\"open\"))).first()[0]\n",
    "\n",
    "imputed_stocks_df = completed_stocks_df.withColumn(\"open\", F.when(F.col(\"open\") == 0, mean_open).otherwise(F.col(\"open\")))\n",
    "imputed_stocks_df.show()"
   ]
  },
  {
   "cell_type": "markdown",
   "metadata": {},
   "source": [
    "\n",
    "## Consistency\n",
    "\n",
    "Consistency is the absence of difference when comparing two or more representations of a thing against a reference.\n",
    "\n",
    "Data entries that refer to the same record or entity have to be consistent across all entries, e.g., if you are dealing with records from a logger in the field, the entries for that logger have to remain consistent, and the name or primary key of that logger cannot change from one entry to another. \n",
    "\n",
    "For example, 'Logger1', 'Loger1' and 'Logge1' are examples of inconsistent keys. \n",
    "\n",
    "This is not just within a single table but also becomes more important if you are dealing with relational data. In which case, the mappings between tables and systems must be consistent. If not, the relationships will be completely lost between the tables and referential integrity compromised. \n",
    "\n",
    "- **Measured by**: Analysis of pattern and/or value frequency;\n",
    "- **Units**: Percentage;\n",
    "- **Related to**: Accuracy, Validity, and Uniqueness."
   ]
  },
  {
   "cell_type": "markdown",
   "metadata": {},
   "source": [
    "> ℹ️ **Instructions** ℹ️\n",
    ">\n",
    "> There currently exists a stock that has inconsistent naming. Make use of the metadata to determine which stock is inconsistently named, then update the dataframe appropriately to get rid of this inconsistency.\n",
    ">\n",
    ">*You may use as many coding cells as necessary.*"
   ]
  },
  {
   "cell_type": "code",
   "execution_count": 99,
   "metadata": {},
   "outputs": [
    {
     "name": "stdout",
     "output_type": "stream",
     "text": [
      "+-----+\n",
      "|stock|\n",
      "+-----+\n",
      "|ARNCA|\n",
      "+-----+\n",
      "\n"
     ]
    }
   ],
   "source": [
    "#uniformization of data\n",
    "imputed_stocks_df.select(F.col(\"stock\")).distinct().exceptAll(metadata_df.select(F.col(\"NASDAQ Symbol\")).distinct()).show()"
   ]
  },
  {
   "cell_type": "code",
   "execution_count": 104,
   "metadata": {},
   "outputs": [
    {
     "data": {
      "text/plain": [
       "[Row(Nasdaq Traded='Y', Symbol='ARNC', Security Name='Arconic Corporation Common Stock ', Listing Exchange='N', Market Category=' ', ETF='N', Round Lot Size='100.0', Test Issue='N', Financial Status=None, CQS Symbol='ARNC', NASDAQ Symbol='ARNC', NextShares='N')]"
      ]
     },
     "execution_count": 104,
     "metadata": {},
     "output_type": "execute_result"
    }
   ],
   "source": [
    "metadata_df.where(F.col(\"NASDAQ Symbol\").like(\"ARNC%\")).collect()"
   ]
  },
  {
   "cell_type": "code",
   "execution_count": 113,
   "metadata": {},
   "outputs": [],
   "source": [
    "consistent_stocks_df = imputed_stocks_df.withColumn(\"stock\", F.when(F.col(\"stock\") == \"ARNCA\", \"ARNC\").otherwise(F.col(\"stock\")))"
   ]
  },
  {
   "cell_type": "markdown",
   "metadata": {},
   "source": [
    "## Timeliness\n",
    "\n",
    "Timeliness is the degree to which data represent reality from the required point in time.\n",
    "\n",
    "Timeliness expects that the data within your dataset is sufficiently up to date. If you are trying to answer questions that relate to recent problems, having timely data is extremely important. For example, you cannot use current flight patterns to model how many aeroplanes will be required by a large aeronautics company within the next 5-10 years. \n",
    "\n",
    "Similarly, when answering questions that require real-time answers (e.g., predicting when a pipe will burst in a manufacturing plant), you have to be set up to receive real-time data from sensors and loggers. \n",
    "\n",
    "- **Measured by**: Time difference;\n",
    "- **Units**: Time;\n",
    "- **Related to**: Accuracy because it will decay as time progress. "
   ]
  },
  {
   "cell_type": "markdown",
   "metadata": {},
   "source": [
    "It is important to see the latest value for each of the stocks that we are looking at:"
   ]
  },
  {
   "cell_type": "code",
   "execution_count": 114,
   "metadata": {},
   "outputs": [
    {
     "name": "stdout",
     "output_type": "stream",
     "text": [
      "+-----+-------------------+\n",
      "|stock|          max(Date)|\n",
      "+-----+-------------------+\n",
      "|   AA|1962-12-31 00:00:00|\n",
      "|  XOM|1962-12-31 00:00:00|\n",
      "|  DIS|1962-12-31 00:00:00|\n",
      "|   PG|1962-12-31 00:00:00|\n",
      "|   GT|1962-12-31 00:00:00|\n",
      "|   MO|1962-12-31 00:00:00|\n",
      "|  IBM|1962-12-31 00:00:00|\n",
      "|  JNJ|1962-12-31 00:00:00|\n",
      "|  CVX|1962-12-31 00:00:00|\n",
      "|  DTE|1962-12-31 00:00:00|\n",
      "|   BA|1962-12-31 00:00:00|\n",
      "|   GE|1962-12-31 00:00:00|\n",
      "|  HPQ|1962-12-31 00:00:00|\n",
      "| ARNC|1962-12-31 00:00:00|\n",
      "|  CAT|1962-12-31 00:00:00|\n",
      "|   IP|1962-12-31 00:00:00|\n",
      "|   FL|1962-12-31 00:00:00|\n",
      "|   ED|1962-12-31 00:00:00|\n",
      "|  NAV|1962-11-30 00:00:00|\n",
      "|   KO|1962-12-31 00:00:00|\n",
      "+-----+-------------------+\n",
      "\n"
     ]
    }
   ],
   "source": [
    "consistent_stocks_df.groupBy('stock').agg(F.max('Date')).show()"
   ]
  },
  {
   "cell_type": "markdown",
   "metadata": {},
   "source": [
    "Sometimes, some of these axes of data quality will be less important than others. \n",
    "This is one of those cases where it is less important to have timely data, since \n",
    "we are trying to create a training dataset for a stock market prediction algorithm. \n",
    "\n",
    "It is important to know the context in which you are doing your modelling. "
   ]
  },
  {
   "cell_type": "markdown",
   "metadata": {},
   "source": [
    "### Gaps in the dataset\n",
    "\n",
    "Let's see if we can find inconsistencies in the time series by having a look at the number of entries for each of the tickers.\n",
    " \n",
    "> ℹ️ **Instructions** ℹ️\n",
    ">\n",
    "> Uncomment and use the below code to determine which dates had entries that were not equal to 20. You may have to change the name of the dataframe to see the resultant output\n",
    ">\n",
    ">*You may use as many coding cells as necessary.*"
   ]
  },
  {
   "cell_type": "code",
   "execution_count": 117,
   "metadata": {},
   "outputs": [
    {
     "name": "stdout",
     "output_type": "stream",
     "text": [
      "+-------------------+-----+\n",
      "|               date|count|\n",
      "+-------------------+-----+\n",
      "|1962-09-13 00:00:00|   21|\n",
      "|1962-02-15 00:00:00|   23|\n",
      "|1962-02-27 00:00:00|   23|\n",
      "|1962-09-04 00:00:00|   21|\n",
      "|1962-09-18 00:00:00|   21|\n",
      "|1962-02-02 00:00:00|   23|\n",
      "|1962-07-20 00:00:00|   19|\n",
      "|1962-09-12 00:00:00|   21|\n",
      "|1962-02-13 00:00:00|   23|\n",
      "|1962-02-09 00:00:00|   23|\n",
      "|1962-09-20 00:00:00|   21|\n",
      "|1962-12-31 00:00:00|   19|\n",
      "|1962-09-24 00:00:00|   21|\n",
      "|1962-02-14 00:00:00|   23|\n",
      "|1962-02-21 00:00:00|   23|\n",
      "|1962-12-18 00:00:00|   19|\n",
      "|1962-09-21 00:00:00|   21|\n",
      "|1962-12-28 00:00:00|   19|\n",
      "|1962-02-05 00:00:00|   23|\n",
      "|1962-02-19 00:00:00|   23|\n",
      "|1962-09-05 00:00:00|   21|\n",
      "|1962-06-07 00:00:00|   19|\n",
      "|1962-02-12 00:00:00|   23|\n",
      "|1962-06-12 00:00:00|   19|\n",
      "|1962-02-20 00:00:00|   23|\n",
      "|1962-09-10 00:00:00|   21|\n",
      "|1962-03-14 00:00:00|   19|\n",
      "|1962-02-28 00:00:00|   23|\n",
      "|1962-09-26 00:00:00|   21|\n",
      "|1962-03-20 00:00:00|   19|\n",
      "|1962-09-25 00:00:00|   21|\n",
      "|1962-02-16 00:00:00|   23|\n",
      "|1962-03-19 00:00:00|   19|\n",
      "|1962-02-07 00:00:00|   23|\n",
      "|1962-02-06 00:00:00|   23|\n",
      "|1962-07-25 00:00:00|   19|\n",
      "|1962-06-06 00:00:00|   19|\n",
      "|1962-02-01 00:00:00|   23|\n",
      "|1962-09-11 00:00:00|   21|\n",
      "|1962-09-07 00:00:00|   21|\n",
      "|1962-09-27 00:00:00|   21|\n",
      "|1962-09-14 00:00:00|   21|\n",
      "|1962-09-19 00:00:00|   21|\n",
      "|1962-03-22 00:00:00|   19|\n",
      "|1962-12-03 00:00:00|   19|\n",
      "|1962-09-17 00:00:00|   21|\n",
      "|1962-02-23 00:00:00|   23|\n",
      "|1962-02-26 00:00:00|   23|\n",
      "|1962-09-06 00:00:00|   21|\n",
      "|1962-12-21 00:00:00|   19|\n",
      "|1962-12-20 00:00:00|   19|\n",
      "|1962-02-08 00:00:00|   23|\n",
      "|1962-09-28 00:00:00|   21|\n",
      "|1962-12-19 00:00:00|   19|\n",
      "|1962-12-24 00:00:00|   19|\n",
      "|1962-06-20 00:00:00|   19|\n",
      "|1962-06-04 00:00:00|   19|\n",
      "|1962-03-27 00:00:00|   19|\n",
      "|1962-06-19 00:00:00|   19|\n",
      "|1962-03-05 00:00:00|   19|\n",
      "|1962-12-12 00:00:00|   18|\n",
      "|1962-12-14 00:00:00|   18|\n",
      "|1962-07-16 00:00:00|   19|\n",
      "|1962-06-25 00:00:00|   19|\n",
      "|1962-06-22 00:00:00|   19|\n",
      "|1962-06-08 00:00:00|   19|\n",
      "|1962-06-15 00:00:00|   19|\n",
      "|1962-12-26 00:00:00|   19|\n",
      "|1962-12-17 00:00:00|   18|\n",
      "|1962-12-27 00:00:00|   19|\n",
      "|1962-12-04 00:00:00|   18|\n",
      "|1962-03-16 00:00:00|   19|\n",
      "|1962-07-31 00:00:00|   19|\n",
      "|1962-03-29 00:00:00|   19|\n",
      "|1962-06-13 00:00:00|   19|\n",
      "|1962-07-10 00:00:00|   19|\n",
      "|1962-03-15 00:00:00|   19|\n",
      "|1962-07-09 00:00:00|   19|\n",
      "|1962-03-28 00:00:00|   19|\n",
      "|1962-03-13 00:00:00|   19|\n",
      "|1962-07-17 00:00:00|   19|\n",
      "|1962-12-05 00:00:00|   18|\n",
      "|1962-03-12 00:00:00|   19|\n",
      "|1962-07-06 00:00:00|   19|\n",
      "|1962-03-02 00:00:00|   19|\n",
      "|1962-07-26 00:00:00|   19|\n",
      "|1962-07-05 00:00:00|   19|\n",
      "|1962-03-06 00:00:00|   19|\n",
      "|1962-07-12 00:00:00|   19|\n",
      "|1962-06-29 00:00:00|   19|\n",
      "|1962-06-28 00:00:00|   19|\n",
      "|1962-12-06 00:00:00|   18|\n",
      "|1962-07-03 00:00:00|   19|\n",
      "|1962-06-21 00:00:00|   19|\n",
      "|1962-07-13 00:00:00|   19|\n",
      "|1962-07-30 00:00:00|   19|\n",
      "|1962-07-19 00:00:00|   19|\n",
      "|1962-07-18 00:00:00|   19|\n",
      "|1962-03-01 00:00:00|   19|\n",
      "|1962-03-23 00:00:00|   19|\n",
      "|1962-06-01 00:00:00|   19|\n",
      "|1962-03-30 00:00:00|   19|\n",
      "|1962-07-02 00:00:00|   19|\n",
      "|1962-12-11 00:00:00|   18|\n",
      "|1962-03-09 00:00:00|   19|\n",
      "|1962-07-11 00:00:00|   19|\n",
      "|1962-12-13 00:00:00|   18|\n",
      "|1962-06-18 00:00:00|   19|\n",
      "|1962-07-27 00:00:00|   19|\n",
      "|1962-12-07 00:00:00|   18|\n",
      "|1962-06-11 00:00:00|   19|\n",
      "|1962-03-08 00:00:00|   19|\n",
      "|1962-03-07 00:00:00|   19|\n",
      "|1962-06-14 00:00:00|   19|\n",
      "|1962-06-05 00:00:00|   19|\n",
      "|1962-07-24 00:00:00|   19|\n",
      "|1962-07-23 00:00:00|   19|\n",
      "|1962-12-10 00:00:00|   18|\n",
      "|1962-06-27 00:00:00|   19|\n",
      "|1962-03-26 00:00:00|   19|\n",
      "|1962-06-26 00:00:00|   19|\n",
      "|1962-03-21 00:00:00|   19|\n",
      "+-------------------+-----+\n",
      "\n"
     ]
    }
   ],
   "source": [
    "consistent_stocks_df.orderBy('date').groupby('date').count().where(F.col('count') != 20).show(400)"
   ]
  },
  {
   "cell_type": "markdown",
   "metadata": {},
   "source": [
    "> ℹ️ **Instructions** ℹ️\n",
    ">\n",
    "> From the above result, investigate the number of times a stock appears for the given month. You can infer the months by using the output of the previous cell.\n",
    ">\n",
    ">*You may use as many coding cells as necessary.*"
   ]
  },
  {
   "cell_type": "code",
   "execution_count": 126,
   "metadata": {},
   "outputs": [
    {
     "name": "stdout",
     "output_type": "stream",
     "text": [
      "+-----+-----+-----+\n",
      "|month|stock|count|\n",
      "+-----+-----+-----+\n",
      "|    1|   AA|   22|\n",
      "|    1| ARNC|   22|\n",
      "|    1|   BA|   22|\n",
      "|    1|  CAT|   22|\n",
      "|    1|  CVX|   22|\n",
      "|    1|  DIS|   22|\n",
      "|    1|  DTE|   22|\n",
      "|    1|   ED|   22|\n",
      "|    1|   FL|   22|\n",
      "|    1|   GE|   22|\n",
      "|    1|   GT|   22|\n",
      "|    1|  HPQ|   22|\n",
      "|    1|  IBM|   22|\n",
      "|    1|   IP|   22|\n",
      "|    1|  JNJ|   22|\n",
      "|    1|   KO|   22|\n",
      "|    1|   MO|   22|\n",
      "|    1|  NAV|   22|\n",
      "|    1|   PG|   22|\n",
      "|    1|  XOM|   22|\n",
      "|    2|   AA|   19|\n",
      "|    2| ARNC|   19|\n",
      "|    2|   BA|   19|\n",
      "|    2|  CAT|   19|\n",
      "|    2|  CVX|   19|\n",
      "|    2|  DIS|   19|\n",
      "|    2|  DTE|   19|\n",
      "|    2|   ED|   19|\n",
      "|    2|   FL|   19|\n",
      "|    2|   GE|   19|\n",
      "|    2|   GT|   19|\n",
      "|    2|  HPQ|   76|\n",
      "|    2|  IBM|   19|\n",
      "|    2|   IP|   19|\n",
      "|    2|  JNJ|   19|\n",
      "|    2|   KO|   19|\n",
      "|    2|   MO|   19|\n",
      "|    2|  NAV|   19|\n",
      "|    2|   PG|   19|\n",
      "|    2|  XOM|   19|\n",
      "|    3|   AA|   22|\n",
      "|    3| ARNC|   22|\n",
      "|    3|   BA|   22|\n",
      "|    3|  CVX|   22|\n",
      "|    3|  DIS|   22|\n",
      "|    3|  DTE|   22|\n",
      "|    3|   ED|   22|\n",
      "|    3|   FL|   22|\n",
      "|    3|   GE|   22|\n",
      "|    3|   GT|   22|\n",
      "|    3|  HPQ|   22|\n",
      "|    3|  IBM|   22|\n",
      "|    3|   IP|   22|\n",
      "|    3|  JNJ|   22|\n",
      "|    3|   KO|   22|\n",
      "|    3|   MO|   22|\n",
      "|    3|  NAV|   22|\n",
      "|    3|   PG|   22|\n",
      "|    3|  XOM|   22|\n",
      "|    4|   AA|   20|\n",
      "|    4| ARNC|   20|\n",
      "|    4|   BA|   20|\n",
      "|    4|  CAT|   20|\n",
      "|    4|  CVX|   20|\n",
      "|    4|  DIS|   20|\n",
      "|    4|  DTE|   20|\n",
      "|    4|   ED|   20|\n",
      "|    4|   FL|   20|\n",
      "|    4|   GE|   20|\n",
      "|    4|   GT|   20|\n",
      "|    4|  HPQ|   20|\n",
      "|    4|  IBM|   20|\n",
      "|    4|   IP|   20|\n",
      "|    4|  JNJ|   20|\n",
      "|    4|   KO|   20|\n",
      "|    4|   MO|   20|\n",
      "|    4|  NAV|   20|\n",
      "|    4|   PG|   20|\n",
      "|    4|  XOM|   20|\n",
      "|    5|   AA|   22|\n",
      "|    5| ARNC|   22|\n",
      "|    5|   BA|   22|\n",
      "|    5|  CAT|   22|\n",
      "|    5|  CVX|   22|\n",
      "|    5|  DIS|   22|\n",
      "|    5|  DTE|   22|\n",
      "|    5|   ED|   22|\n",
      "|    5|   FL|   22|\n",
      "|    5|   GE|   22|\n",
      "|    5|   GT|   22|\n",
      "|    5|  HPQ|   22|\n",
      "|    5|  IBM|   22|\n",
      "|    5|   IP|   22|\n",
      "|    5|  JNJ|   22|\n",
      "|    5|   KO|   22|\n",
      "|    5|   MO|   22|\n",
      "|    5|  NAV|   22|\n",
      "|    5|   PG|   22|\n",
      "|    5|  XOM|   22|\n",
      "|    6|   AA|   21|\n",
      "|    6| ARNC|   21|\n",
      "|    6|   BA|   21|\n",
      "|    6|  CAT|   21|\n",
      "|    6|  CVX|   21|\n",
      "|    6|  DIS|   21|\n",
      "|    6|  DTE|   21|\n",
      "|    6|   ED|   21|\n",
      "|    6|   GE|   21|\n",
      "|    6|   GT|   21|\n",
      "|    6|  HPQ|   21|\n",
      "|    6|  IBM|   21|\n",
      "|    6|   IP|   21|\n",
      "|    6|  JNJ|   21|\n",
      "|    6|   KO|   21|\n",
      "|    6|   MO|   21|\n",
      "|    6|  NAV|   21|\n",
      "|    6|   PG|   21|\n",
      "|    6|  XOM|   21|\n",
      "|    7|   AA|   21|\n",
      "|    7| ARNC|   21|\n",
      "|    7|   BA|   21|\n",
      "|    7|  CAT|   21|\n",
      "|    7|  CVX|   21|\n",
      "|    7|  DIS|   21|\n",
      "|    7|  DTE|   21|\n",
      "|    7|   ED|   21|\n",
      "|    7|   FL|   21|\n",
      "|    7|   GE|   21|\n",
      "|    7|   GT|   21|\n",
      "|    7|  HPQ|   21|\n",
      "|    7|  IBM|   21|\n",
      "|    7|   IP|   21|\n",
      "|    7|   KO|   21|\n",
      "|    7|   MO|   21|\n",
      "|    7|  NAV|   21|\n",
      "|    7|   PG|   21|\n",
      "|    7|  XOM|   21|\n",
      "|    8|   AA|   23|\n",
      "|    8| ARNC|   23|\n",
      "|    8|   BA|   23|\n",
      "|    8|  CAT|   23|\n",
      "|    8|  CVX|   23|\n",
      "|    8|  DIS|   23|\n",
      "|    8|  DTE|   23|\n",
      "|    8|   ED|   23|\n",
      "|    8|   FL|   23|\n",
      "|    8|   GE|   23|\n",
      "|    8|   GT|   23|\n",
      "|    8|  HPQ|   23|\n",
      "|    8|  IBM|   23|\n",
      "|    8|   IP|   23|\n",
      "|    8|  JNJ|   23|\n",
      "|    8|   KO|   23|\n",
      "|    8|   MO|   23|\n",
      "|    8|  NAV|   23|\n",
      "|    8|   PG|   23|\n",
      "|    8|  XOM|   23|\n",
      "|    9|   AA|   19|\n",
      "|    9| ARNC|   19|\n",
      "|    9|   BA|   19|\n",
      "|    9|  CAT|   19|\n",
      "|    9|  CVX|   19|\n",
      "|    9|  DIS|   19|\n",
      "|    9|  DTE|   19|\n",
      "|    9|   ED|   38|\n",
      "|    9|   FL|   19|\n",
      "|    9|   GE|   19|\n",
      "|    9|   GT|   19|\n",
      "|    9|  HPQ|   19|\n",
      "|    9|  IBM|   19|\n",
      "|    9|   IP|   19|\n",
      "|    9|  JNJ|   19|\n",
      "|    9|   KO|   19|\n",
      "|    9|   MO|   19|\n",
      "|    9|  NAV|   19|\n",
      "|    9|   PG|   19|\n",
      "|    9|  XOM|   19|\n",
      "|   10|   AA|   23|\n",
      "|   10| ARNC|   23|\n",
      "|   10|   BA|   23|\n",
      "|   10|  CAT|   23|\n",
      "|   10|  CVX|   23|\n",
      "|   10|  DIS|   23|\n",
      "|   10|  DTE|   23|\n",
      "|   10|   ED|   23|\n",
      "|   10|   FL|   23|\n",
      "|   10|   GE|   23|\n",
      "|   10|   GT|   23|\n",
      "|   10|  HPQ|   23|\n",
      "|   10|  IBM|   23|\n",
      "|   10|   IP|   23|\n",
      "|   10|  JNJ|   23|\n",
      "|   10|   KO|   23|\n",
      "|   10|   MO|   23|\n",
      "|   10|  NAV|   23|\n",
      "|   10|   PG|   23|\n",
      "|   10|  XOM|   23|\n",
      "|   11|   AA|   20|\n",
      "|   11| ARNC|   20|\n",
      "|   11|   BA|   20|\n",
      "|   11|  CAT|   20|\n",
      "|   11|  CVX|   20|\n",
      "|   11|  DIS|   20|\n",
      "|   11|  DTE|   20|\n",
      "|   11|   ED|   20|\n",
      "|   11|   FL|   20|\n",
      "|   11|   GE|   20|\n",
      "|   11|   GT|   20|\n",
      "|   11|  HPQ|   20|\n",
      "|   11|  IBM|   20|\n",
      "|   11|   IP|   20|\n",
      "|   11|  JNJ|   20|\n",
      "|   11|   KO|   20|\n",
      "|   11|   MO|   20|\n",
      "|   11|  NAV|   20|\n",
      "|   11|   PG|   20|\n",
      "|   11|  XOM|   20|\n",
      "|   12|   AA|   20|\n",
      "|   12| ARNC|   20|\n",
      "|   12|   BA|   10|\n",
      "|   12|  CAT|   20|\n",
      "|   12|  CVX|   20|\n",
      "|   12|  DIS|   20|\n",
      "|   12|  DTE|   20|\n",
      "|   12|   ED|   20|\n",
      "|   12|   FL|   20|\n",
      "|   12|   GE|   20|\n",
      "|   12|   GT|   20|\n",
      "|   12|  HPQ|   20|\n",
      "|   12|  IBM|   20|\n",
      "|   12|   IP|   20|\n",
      "|   12|  JNJ|   20|\n",
      "|   12|   KO|   20|\n",
      "|   12|   MO|   20|\n",
      "|   12|   PG|   20|\n",
      "|   12|  XOM|   20|\n",
      "+-----+-----+-----+\n",
      "\n"
     ]
    }
   ],
   "source": [
    "#\n",
    "consistent_stocks_df.withColumn(\"month\", F.month(F.col(\"date\"))).groupby(F.col(\"month\"), F.col(\"stock\")).count().sort(F.col(\"month\"), F.col(\"stock\")).show(400)"
   ]
  },
  {
   "cell_type": "markdown",
   "metadata": {},
   "source": [
    "## Uniqueness\n",
    "\n",
    "Uniqueness requires that nothing will be recorded more than once based upon how that thing is identified. It is the inverse of an assessment of the level of duplication.\n",
    "\n",
    "Each entry within the dataset should only relate to a single event that has occurred and thus should not be duplicated. This is largely mediated by having the appropriate primary key, which means sticking to the requirements of a good primary key. All fields in the tables should be non-transitively dependent on the primary key.\n",
    "\n",
    "As such, deduplication of the dataset may be required. \n",
    "\n",
    "- **Measured by**: Analysis of the number of things assessed in the “real world” compared to the number of records of things in the dataset. This requires a reference dataset which is the ground truth;\n",
    "- **Units**: Percentage;\n",
    "- **Related to**: Consistency."
   ]
  },
  {
   "cell_type": "markdown",
   "metadata": {},
   "source": [
    "### Duplication Test\n",
    "For time-series data, it is important to check for duplications, as we typically expect all values to be unique within the dataset.\n",
    "\n",
    "The first thing to check will be if the primary key values within the dataset are unique - in our case, that will be a combination of the stock name and the date.\n",
    "\n",
    "Secondly, we want to check if the entries are all unique, which is done by checking for duplicates across that whole dataset."
   ]
  },
  {
   "cell_type": "markdown",
   "metadata": {},
   "source": [
    "> ℹ️ **Instructions** ℹ️\n",
    ">\n",
    "> Write code to determine if there are any duplicates within the data, and then proceed to correct this by dropping them from the dataframe.\n",
    ">\n",
    ">*You may use as many coding cells as necessary.*"
   ]
  },
  {
   "cell_type": "code",
   "execution_count": 128,
   "metadata": {},
   "outputs": [
    {
     "name": "stdout",
     "output_type": "stream",
     "text": [
      "+-------------------+-----+-----+\n",
      "|               date|stock|count|\n",
      "+-------------------+-----+-----+\n",
      "|1962-09-24 00:00:00|   ED|    2|\n",
      "|1962-02-20 00:00:00|  HPQ|    4|\n",
      "|1962-09-25 00:00:00|   ED|    2|\n",
      "|1962-02-27 00:00:00|  HPQ|    4|\n",
      "|1962-09-14 00:00:00|   ED|    2|\n",
      "|1962-02-13 00:00:00|  HPQ|    4|\n",
      "|1962-02-01 00:00:00|  HPQ|    4|\n",
      "|1962-02-16 00:00:00|  HPQ|    4|\n",
      "|1962-02-12 00:00:00|  HPQ|    4|\n",
      "|1962-02-28 00:00:00|  HPQ|    4|\n",
      "|1962-02-23 00:00:00|  HPQ|    4|\n",
      "|1962-09-10 00:00:00|   ED|    2|\n",
      "|1962-09-06 00:00:00|   ED|    2|\n",
      "|1962-02-06 00:00:00|  HPQ|    4|\n",
      "|1962-09-18 00:00:00|   ED|    2|\n",
      "|1962-02-08 00:00:00|  HPQ|    4|\n",
      "|1962-09-13 00:00:00|   ED|    2|\n",
      "|1962-09-20 00:00:00|   ED|    2|\n",
      "|1962-09-28 00:00:00|   ED|    2|\n",
      "|1962-09-12 00:00:00|   ED|    2|\n",
      "+-------------------+-----+-----+\n",
      "only showing top 20 rows\n",
      "\n"
     ]
    }
   ],
   "source": [
    "#Uniqueness\n",
    "consistent_stocks_df.groupBy(\"date\", \"stock\").count().where(F.col(\"count\") > 1).show()"
   ]
  },
  {
   "cell_type": "code",
   "execution_count": 130,
   "metadata": {},
   "outputs": [
    {
     "name": "stdout",
     "output_type": "stream",
     "text": [
      "+-------------------+-------------------+-----------+-----------+-----------+------------+---------+-----+\n",
      "|               date|               open|       high|        low|      close|   adj_close|   volume|stock|\n",
      "+-------------------+-------------------+-----------+-----------+-----------+------------+---------+-----+\n",
      "|1962-02-19 00:00:00|  2.388316460492633|    29.9375|      29.75|    29.9375|  0.49964145|   1600.0|  DTE|\n",
      "|1962-02-19 00:00:00|  2.388316460492633|  7.0833335|  7.0208335|  7.0208335|  0.91296524|  20400.0|   FL|\n",
      "|1962-02-26 00:00:00|  2.388316460492633|    279.375|     276.25|    279.375|   124.94374|    700.0|  NAV|\n",
      "|1962-02-27 00:00:00|          0.2421875| 0.24414062|  0.2421875| 0.24348958| 0.003923037| 460800.0|   KO|\n",
      "|1962-02-15 00:00:00|  2.388316460492633|  1.7109375|  1.6953125|  1.7070312| 0.015216202| 742400.0|  XOM|\n",
      "|1962-09-24 00:00:00|  2.388316460492633|     9.4375|      9.125|      9.125|  0.21102822|  34400.0|   ED|\n",
      "|1962-10-01 00:00:00|  2.388316460492633|0.119791664|0.116753474|0.116753474| 1.480022E-4| 921600.0|   MO|\n",
      "|1962-04-27 00:00:00|  2.388316460492633|  6.3645835|  6.0833335|  6.1666665|  0.80845404|  67200.0|   FL|\n",
      "|1962-04-27 00:00:00|  2.388316460492633| 0.21180555| 0.20717593| 0.20717593| 5.839639E-7| 172800.0|  JNJ|\n",
      "|1962-01-08 00:00:00|  2.388316460492633|   8.762134|   8.399563|   8.611063|  0.75458753|  88800.0|   IP|\n",
      "|1962-01-25 00:00:00|  2.388316460492633|  1.3046875|  1.2851562|   1.296875| 0.012308093| 294400.0|   PG|\n",
      "|1962-01-11 00:00:00| 0.2565104067325592|  0.2591146| 0.25520834|  0.2591146| 0.004174785| 614400.0|   KO|\n",
      "|1962-03-14 00:00:00|  2.388316460492633|   10.84375|   10.59375|   10.84375|   1.8967781|  36400.0|   GT|\n",
      "|1962-08-02 00:00:00|  2.388316460492633|  3.3482144|  3.3035715|   3.325893| 0.053389795| 124800.0|  CVX|\n",
      "|1962-07-25 00:00:00|  5.013118267059326|  5.0131183|   4.872564|  4.9896927|    1.164298|  64600.0| ARNC|\n",
      "|1962-10-29 00:00:00|  2.388316460492633|   1.609375|    1.59375|  1.6015625| 0.014603195| 688000.0|  XOM|\n",
      "|1962-08-28 00:00:00|0.08027148246765137| 0.08071498| 0.07628009|0.076723576|0.0042553563|1211900.0|  HPQ|\n",
      "|1962-02-21 00:00:00|  2.388316460492633|     30.125|      29.75|      29.75|    0.496513|   5000.0|  DTE|\n",
      "|1962-04-04 00:00:00|  2.388316460492633|    273.125|    270.625|    273.125|   123.46554|    300.0|  NAV|\n",
      "|1962-04-27 00:00:00| 1.5520833730697632|  1.5572916|  1.5208334|  1.5416666|  0.13328674| 182400.0|  CAT|\n",
      "+-------------------+-------------------+-----------+-----------+-----------+------------+---------+-----+\n",
      "only showing top 20 rows\n",
      "\n"
     ]
    }
   ],
   "source": [
    "uniq_stocks_df = consistent_stocks_df.dropDuplicates([\"date\", \"stock\"])\n",
    "uniq_stocks_df.show()"
   ]
  },
  {
   "cell_type": "code",
   "execution_count": 141,
   "metadata": {},
   "outputs": [
    {
     "name": "stdout",
     "output_type": "stream",
     "text": [
      "+----+----+----+---+-----+---------+------+-----+-----+\n",
      "|date|open|high|low|close|adj_close|volume|stock|count|\n",
      "+----+----+----+---+-----+---------+------+-----+-----+\n",
      "+----+----+----+---+-----+---------+------+-----+-----+\n",
      "\n"
     ]
    }
   ],
   "source": [
    "uniq_stocks_df.groupBy(uniq_stocks_df.columns).count().where(F.col(\"count\") > 1).show()"
   ]
  },
  {
   "cell_type": "markdown",
   "metadata": {},
   "source": [
    "## Validity\n",
    "Data is valid if it conforms to the syntax (format, type, range) of its definition.\n",
    "\n",
    "Certain values within a field may have specific criteria required to make it valid, e.g., numerical columns cannot contain alphabetical characters, which can occur due to scientific notation.\n",
    "\n",
    "This can be more difficult to determine in stings, in which case you may have to check using regex. \n",
    "\n",
    "- **Measured by**: Comparison between the data and metadata or documentation for the data item;\n",
    "- **Units**: Percentage of data items deemed Valid or Invalid;\n",
    "- **Related to**: Accuracy, Completeness, Consistency, and Uniqueness."
   ]
  },
  {
   "cell_type": "markdown",
   "metadata": {},
   "source": [
    "We need to first define what we expect from our dataset:\n",
    "\n",
    "- stock: string (nullable = true) => Should be contained in the list of expected tickers\n",
    "- date: date (nullable = true) => Should conform to date format, and be in the past\n",
    "- open: double (nullable = true) => Should be positive or 0\n",
    "- high: double (nullable = true) => Should be positive or 0\n",
    "- low: double (nullable = true) => Should be positive or 0 (should be < high)\n",
    "- close: double (nullable = true) => Should be positive or 0 (should be <= high )\n",
    "- adj_close: double (nullable = true) => Should be positive or 0\n",
    "- volume: integer (nullable = true) => Should be positive or 0\n",
    "- high_avg: double (nullable = true) => Derived (not needed to test)\n",
    "- high_imp: double (nullable = true) => Derived (not needed to test)\n",
    "- day_of_week: string (nullable = true) => Derived (not needed to test)\n",
    "\n",
    "*Is there any other logic that we can incorporate?*"
   ]
  },
  {
   "cell_type": "markdown",
   "metadata": {},
   "source": [
    "> ℹ️ **Instructions** ℹ️\n",
    ">\n",
    "> Use the metadata to check if all the stocks in your current dataframe are valid. In other words, make sure you have no foreign/unknown tickers in your dataframe.\n",
    ">\n",
    ">*You may use as many coding cells as necessary.*\n"
   ]
  },
  {
   "cell_type": "code",
   "execution_count": 142,
   "metadata": {},
   "outputs": [
    {
     "name": "stdout",
     "output_type": "stream",
     "text": [
      "+-----+\n",
      "|stock|\n",
      "+-----+\n",
      "+-----+\n",
      "\n"
     ]
    }
   ],
   "source": [
    "#Validity of stocks values\n",
    "uniq_stocks_df.select(F.col(\"stock\")).distinct().exceptAll(metadata_df.select(F.col(\"NASDAQ Symbol\")).distinct()).show()"
   ]
  },
  {
   "cell_type": "markdown",
   "metadata": {},
   "source": [
    "> ℹ️ **Instructions** ℹ️\n",
    ">\n",
    ">\n",
    ">Check if the date column contains only valid dates and all dates are in the past.\n",
    ">\n",
    ">*Valid dates should already be checked in the data reading step.*"
   ]
  },
  {
   "cell_type": "code",
   "execution_count": 154,
   "metadata": {},
   "outputs": [
    {
     "name": "stdout",
     "output_type": "stream",
     "text": [
      "+----+----+----+---+-----+---------+------+-----+\n",
      "|date|open|high|low|close|adj_close|volume|stock|\n",
      "+----+----+----+---+-----+---------+------+-----+\n",
      "+----+----+----+---+-----+---------+------+-----+\n",
      "\n",
      "+----+----+----+---+-----+---------+------+-----+\n",
      "|date|open|high|low|close|adj_close|volume|stock|\n",
      "+----+----+----+---+-----+---------+------+-----+\n",
      "+----+----+----+---+-----+---------+------+-----+\n",
      "\n"
     ]
    }
   ],
   "source": [
    "#Validity of date values\n",
    "valid_date_format = \"yyyy-MM-dd HH:mm:ss\"\n",
    "uniq_stocks_df.where(~F.date_format(F.col(\"date\"), valid_date_format).isNotNull()).show()\n",
    "\n",
    "today = date.today()\n",
    "formatted_date = today.strftime(\"%Y-%m-%d 00:00:00\")\n",
    "\n",
    "uniq_stocks_df.where(~(F.col(\"date\") < formatted_date)).show()\n"
   ]
  },
  {
   "cell_type": "markdown",
   "metadata": {},
   "source": [
    "> ℹ️ **Instructions** ℹ️\n",
    ">\n",
    ">Check that all of numerical columns are positive."
   ]
  },
  {
   "cell_type": "code",
   "execution_count": 155,
   "metadata": {},
   "outputs": [
    {
     "name": "stdout",
     "output_type": "stream",
     "text": [
      "+----+\n",
      "|high|\n",
      "+----+\n",
      "+----+\n",
      "\n",
      "+---+\n",
      "|low|\n",
      "+---+\n",
      "+---+\n",
      "\n",
      "+-----+\n",
      "|close|\n",
      "+-----+\n",
      "+-----+\n",
      "\n",
      "+---------+\n",
      "|adj_close|\n",
      "+---------+\n",
      "+---------+\n",
      "\n",
      "+------+\n",
      "|volume|\n",
      "+------+\n",
      "+------+\n",
      "\n"
     ]
    }
   ],
   "source": [
    "#Validity of numerical columns values\n",
    "for column_name in uniq_stocks_df.columns:\n",
    "    if uniq_stocks_df.select(column_name).dtypes[0][1] in ['float','integer']:\n",
    "        uniq_stocks_df.select(column_name).where(F.col(column_name) < 0).show()"
   ]
  },
  {
   "cell_type": "markdown",
   "metadata": {},
   "source": [
    "### Save Updates\n",
    "\n",
    "With our initial work of checking the various dimensions of the data quality completed, we can now save these results to a CSV file.  "
   ]
  },
  {
   "cell_type": "code",
   "execution_count": 164,
   "metadata": {},
   "outputs": [
    {
     "name": "stdout",
     "output_type": "stream",
     "text": [
      "root\n",
      " |-- date: string (nullable = true)\n",
      " |-- open: double (nullable = true)\n",
      " |-- high: float (nullable = true)\n",
      " |-- low: float (nullable = true)\n",
      " |-- close: float (nullable = true)\n",
      " |-- adj_close: float (nullable = true)\n",
      " |-- volume: float (nullable = true)\n",
      " |-- stock: string (nullable = true)\n",
      "\n"
     ]
    }
   ],
   "source": [
    "df_casted = uniq_stocks_df.withColumn(\"date\", F.col(\"date\").cast(StringType()))\n",
    "df_casted.printSchema()"
   ]
  },
  {
   "cell_type": "code",
   "execution_count": 165,
   "metadata": {},
   "outputs": [],
   "source": [
    "pd_df = df_casted.toPandas()"
   ]
  },
  {
   "cell_type": "code",
   "execution_count": 167,
   "metadata": {},
   "outputs": [],
   "source": [
    "pd_df.to_csv('./Task2_data_profiling/kusasalethu_sithole_data_profiling.csv')"
   ]
  }
 ],
 "metadata": {
  "interpreter": {
   "hash": "24a0a2ddc4dffcb168e507551dd24967ddc40ea2df7a72a200a74e0ae6d88beb"
  },
  "kernelspec": {
   "display_name": "Python 3 (ipykernel)",
   "language": "python",
   "name": "python3"
  }
 },
 "nbformat": 4,
 "nbformat_minor": 2
}
