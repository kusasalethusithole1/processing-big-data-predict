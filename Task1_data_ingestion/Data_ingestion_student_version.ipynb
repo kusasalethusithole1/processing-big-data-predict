{
 "cells": [
  {
   "cell_type": "markdown",
   "metadata": {},
   "source": [
    "# Processing Big Data - Data Ingestion\n",
    "© Explore Data Science Academy\n",
    "\n",
    "## Honour Code\n",
    "I **KUSASALETHU**, **SITHOLE**, confirm - by submitting this document - that the solutions in this notebook are a result of my own work and that I abide by the [EDSA honour code](https://drive.google.com/file/d/1QDCjGZJ8-FmJE3bZdIQNwnJyQKPhHZBn/view?usp=sharing).\n",
    "    Non-compliance with the honour code constitutes a material breach of contract.\n",
    "\n",
    "\n",
    "\n",
    "## Context \n",
    "\n",
    "To work constructively with any dataset, one needs to create an ingestion profile to make sure that the data at the source can be readily consumed. For this section of the predict, as the Data Engineer in the team, you will be required to design and implement the ingestion process. For the purposes of the project the AWS cloud storage service, namely, the S3 bucket service will act as your data source. All the data required can be found [here](https://processing-big-data-predict-stocks-data.s3.eu-west-1.amazonaws.com/stocks.zip).\n",
    "\n",
    "<div align=\"center\" style=\"width: 600px; font-size: 80%; text-align: center; margin: 0 auto\">\n",
    "<img src=\"https://raw.githubusercontent.com/Explore-AI/Pictures/master/data_engineering/transform/predict/DataIngestion.jpg\"\n",
    "     alt=\"Data Ingestion\"\n",
    "     style=\"float: center; padding-bottom=0.5em\"\n",
    "     width=40%/>\n",
    "     <p><em>Figure 1. Data Ingestion</em></p>\n",
    "</div>\n",
    "\n",
    "Your manager, Gnissecorp Atadgib, knowing very well that you've recently completed your Data Engineering qualification, asks you to make use of Apache Spark for the ingestion as well as the rest of the project. His rationale being, that stock market data is generated every day and is quite time-sensitive and would require scalability when deploying to a production environment. \n",
    "\n",
    "## Dataset - US Nasdaq\n",
    "\n",
    "\n",
    "\n",
    "\n",
    "<div align=\"center\" style=\"width: 600px; font-size: 80%; text-align: center; margin: 0 auto\">\n",
    "<img src=\"https://raw.githubusercontent.com/Explore-AI/Pictures/master/data_engineering/transform/predict/Nasdaq.png\"\n",
    "     alt=\"Nasdaq\"\n",
    "     style=\"float: center; padding-bottom=0.5em\"\n",
    "     width=50%/>\n",
    "     <p><em>Figure 2. Nasdaq</em></p>\n",
    "</div>\n",
    "\n",
    "The data that you will be working with is a historical snapshot of market data taken from the Nasdaq electronic market. This dataset contains historical daily prices for all tickers currently trading on Nasdaq. The up-to-date list can be found on their [website](https://www.nasdaq.com/)\n",
    "\n",
    "\n",
    "The provided data contains price data dating back from 02 January 1962 up until 01 April 2020. The data found in the S3 bucket has been stored in the following structure:\n",
    "\n",
    "```\n",
    "     stocks/<Year>/<Month>/<Day>/stocks.csv\n",
    "```\n",
    "Each CSV file for every trading day contains the following details:\n",
    "- **Date** - specifies trading date\n",
    "- **Open** - opening price\n",
    "- **High** - maximum price during the day\n",
    "- **Low** - minimum price during the day\n",
    "- **Close** - close price adjusted for splits\n",
    "- **Adj Close** - close price adjusted for both dividends and splits\n",
    "- **Volume** - the number of shares that changed hands during a given day"
   ]
  },
  {
   "cell_type": "markdown",
   "metadata": {},
   "source": [
    "## Basic initialisation\n",
    "To get you started, let's import some basic Python libraries as well as Spark modules and functions."
   ]
  },
  {
   "cell_type": "code",
   "execution_count": 79,
   "metadata": {},
   "outputs": [],
   "source": [
    "import pandas as pd\n",
    "import numpy as np\n",
    "import matplotlib.pyplot as plt\n",
    "\n",
    "from pyspark import SparkContext\n",
    "from pyspark.sql import SparkSession\n",
    "from pyspark.sql import functions as F\n",
    "from pyspark.sql.types import *"
   ]
  },
  {
   "cell_type": "markdown",
   "metadata": {},
   "source": [
    "Remember that we need a `SparkContext` and `SparkSession` to interface with Spark.\n",
    "We will mostly be using the `SparkContext` to interact with RDDs and the `SparkSession` to interface with Python objects.\n",
    "\n",
    "> ℹ️ **Instructions** ℹ️\n",
    ">\n",
    ">Initialise a new **Spark Context** and **Session** that you will use to interface with Spark."
   ]
  },
  {
   "cell_type": "code",
   "execution_count": 80,
   "metadata": {},
   "outputs": [],
   "source": [
    "#Initialise Spark Context and Session\n",
    "sc = SparkContext.getOrCreate()\n",
    "spark = SparkSession(sc)"
   ]
  },
  {
   "cell_type": "markdown",
   "metadata": {},
   "source": [
    "## Investigate dataset schema\n",
    "At this point, it is enough to read in a single file to ascertain the data structure. You will be required to use the information obtained from the small subset to create a data schema. This data schema will be used when reading the entire dataset using Spark.\n",
    "\n",
    "> ℹ️ **Instructions** ℹ️\n",
    ">\n",
    ">Make use of Pandas to read in a single file and investigate the plausible data types to be used when creating a Spark data schema. \n",
    ">\n",
    ">*You may use as many coding cells as necessary.*"
   ]
  },
  {
   "cell_type": "code",
   "execution_count": 81,
   "metadata": {},
   "outputs": [
    {
     "name": "stdout",
     "output_type": "stream",
     "text": [
      "C:\\Users\\skusa\\DevWork\\course\\Sprints\\Processing Big Data\\processing-big-data-predict\\Task1_data_ingestion\n"
     ]
    }
   ],
   "source": [
    "! cd"
   ]
  },
  {
   "cell_type": "code",
   "execution_count": 82,
   "metadata": {},
   "outputs": [
    {
     "data": {
      "text/html": [
       "<div>\n",
       "<style scoped>\n",
       "    .dataframe tbody tr th:only-of-type {\n",
       "        vertical-align: middle;\n",
       "    }\n",
       "\n",
       "    .dataframe tbody tr th {\n",
       "        vertical-align: top;\n",
       "    }\n",
       "\n",
       "    .dataframe thead th {\n",
       "        text-align: right;\n",
       "    }\n",
       "</style>\n",
       "<table border=\"1\" class=\"dataframe\">\n",
       "  <thead>\n",
       "    <tr style=\"text-align: right;\">\n",
       "      <th></th>\n",
       "      <th>Date</th>\n",
       "      <th>Open</th>\n",
       "      <th>High</th>\n",
       "      <th>Low</th>\n",
       "      <th>Close</th>\n",
       "      <th>Adj Close</th>\n",
       "      <th>Volume</th>\n",
       "      <th>stock</th>\n",
       "    </tr>\n",
       "  </thead>\n",
       "  <tbody>\n",
       "    <tr>\n",
       "      <th>0</th>\n",
       "      <td>1962-01-02</td>\n",
       "      <td>6.532155</td>\n",
       "      <td>6.556185</td>\n",
       "      <td>6.532155</td>\n",
       "      <td>6.532155</td>\n",
       "      <td>1.536658</td>\n",
       "      <td>55900.0</td>\n",
       "      <td>AA</td>\n",
       "    </tr>\n",
       "    <tr>\n",
       "      <th>1</th>\n",
       "      <td>1962-01-02</td>\n",
       "      <td>6.125844</td>\n",
       "      <td>6.160982</td>\n",
       "      <td>6.125844</td>\n",
       "      <td>6.125844</td>\n",
       "      <td>1.414651</td>\n",
       "      <td>59700.0</td>\n",
       "      <td>ARNC</td>\n",
       "    </tr>\n",
       "    <tr>\n",
       "      <th>2</th>\n",
       "      <td>1962-01-02</td>\n",
       "      <td>0.837449</td>\n",
       "      <td>0.837449</td>\n",
       "      <td>0.823045</td>\n",
       "      <td>0.823045</td>\n",
       "      <td>0.145748</td>\n",
       "      <td>352200.0</td>\n",
       "      <td>BA</td>\n",
       "    </tr>\n",
       "    <tr>\n",
       "      <th>3</th>\n",
       "      <td>1962-01-02</td>\n",
       "      <td>1.604167</td>\n",
       "      <td>1.619792</td>\n",
       "      <td>1.588542</td>\n",
       "      <td>1.604167</td>\n",
       "      <td>0.136957</td>\n",
       "      <td>163200.0</td>\n",
       "      <td>CAT</td>\n",
       "    </tr>\n",
       "    <tr>\n",
       "      <th>4</th>\n",
       "      <td>1962-01-02</td>\n",
       "      <td>0.000000</td>\n",
       "      <td>3.296131</td>\n",
       "      <td>3.244048</td>\n",
       "      <td>3.296131</td>\n",
       "      <td>0.051993</td>\n",
       "      <td>105600.0</td>\n",
       "      <td>CVX</td>\n",
       "    </tr>\n",
       "  </tbody>\n",
       "</table>\n",
       "</div>"
      ],
      "text/plain": [
       "         Date      Open      High       Low     Close  Adj Close    Volume  \\\n",
       "0  1962-01-02  6.532155  6.556185  6.532155  6.532155   1.536658   55900.0   \n",
       "1  1962-01-02  6.125844  6.160982  6.125844  6.125844   1.414651   59700.0   \n",
       "2  1962-01-02  0.837449  0.837449  0.823045  0.823045   0.145748  352200.0   \n",
       "3  1962-01-02  1.604167  1.619792  1.588542  1.604167   0.136957  163200.0   \n",
       "4  1962-01-02  0.000000  3.296131  3.244048  3.296131   0.051993  105600.0   \n",
       "\n",
       "  stock  \n",
       "0    AA  \n",
       "1  ARNC  \n",
       "2    BA  \n",
       "3   CAT  \n",
       "4   CVX  "
      ]
     },
     "execution_count": 82,
     "metadata": {},
     "output_type": "execute_result"
    }
   ],
   "source": [
    "#Read one stock price csv as pandas\n",
    "pd_df = pd.read_csv(r\"..\\data\\stocks\\stocks\\1962\\01\\02\\stocks.csv\")\n",
    "\n",
    "pd_df.head()"
   ]
  },
  {
   "cell_type": "code",
   "execution_count": 83,
   "metadata": {},
   "outputs": [
    {
     "name": "stdout",
     "output_type": "stream",
     "text": [
      "<class 'pandas.core.frame.DataFrame'>\n",
      "RangeIndex: 20 entries, 0 to 19\n",
      "Data columns (total 8 columns):\n",
      " #   Column     Non-Null Count  Dtype  \n",
      "---  ------     --------------  -----  \n",
      " 0   Date       20 non-null     object \n",
      " 1   Open       20 non-null     float64\n",
      " 2   High       20 non-null     float64\n",
      " 3   Low        20 non-null     float64\n",
      " 4   Close      20 non-null     float64\n",
      " 5   Adj Close  20 non-null     float64\n",
      " 6   Volume     20 non-null     float64\n",
      " 7   stock      20 non-null     object \n",
      "dtypes: float64(6), object(2)\n",
      "memory usage: 1.4+ KB\n"
     ]
    }
   ],
   "source": [
    "pd_df.info()"
   ]
  },
  {
   "cell_type": "markdown",
   "metadata": {},
   "source": [
    "## Read CSV files\n",
    "\n",
    "When working with big data, it is often not tenable to keep processing an entire data batch when you are in the process of development - this can be quite time-consuming. If the data is uniform, it is sufficient to work with a smaller subset to create basic functionality. Your manager has identified the year **1962** to perform the initial testing for data ingestion. \n",
    "\n",
    "> ℹ️ **Instructions** ℹ️\n",
    ">\n",
    ">Read in the data for **1962** using a data schema that purely uses string data types. You will be required to convert to the appropriate data types at a later stage.\n",
    ">\n",
    ">*You may use as many coding cells as necessary.*"
   ]
  },
  {
   "cell_type": "code",
   "execution_count": 84,
   "metadata": {},
   "outputs": [
    {
     "name": "stdout",
     "output_type": "stream",
     "text": [
      "+----------+------------------+------------------+------------------+------------------+------------------+---------+-----+\n",
      "|      Date|              Open|              High|               Low|             Close|         Adj Close|   Volume|stock|\n",
      "+----------+------------------+------------------+------------------+------------------+------------------+---------+-----+\n",
      "|1962-02-19| 5.839290142059326| 5.907374858856201| 5.839290142059326| 5.863319873809815|1.3863292932510376|  29900.0|   AA|\n",
      "|1962-02-19| 5.481634140014648|5.5284857749938965| 5.481634140014648| 5.516772747039795|1.2804527282714844|  32000.0| ARNC|\n",
      "|1962-02-19|0.9074074029922484|0.9156378507614136|0.8991769552230835| 0.903292179107666|0.1614154428243637| 619400.0|   BA|\n",
      "|1962-02-19|1.6770833730697632|1.6927083730697632|1.6614583730697632|1.6770833730697632|0.1440587043762207| 170400.0|  CAT|\n",
      "|1962-02-19|               0.0|3.5788691043853764|              20.0| 3.549107074737549|0.0565012246370315| 273600.0|  CVX|\n",
      "|1962-02-19|0.0997673943638801|0.0997673943638801|0.0982085317373275|0.0982085317373275| 0.037543412297964| 817400.0|  DIS|\n",
      "|1962-02-19|               0.0|           29.9375|             29.75|           29.9375|0.4996414482593536|   1600.0|  DTE|\n",
      "|1962-02-19|               0.0|          9.921875|          9.890625|          9.921875|0.2249917536973952|   8800.0|   ED|\n",
      "|1962-02-19|               0.0| 7.083333492279053| 7.020833492279053| 7.020833492279053|0.9129652380943298|  20400.0|   FL|\n",
      "|1962-02-19|0.7737379670143127|0.7774940133094788|0.7637219429016113|0.7674779891967773|0.0018262817757204|1557500.0|   GE|\n",
      "+----------+------------------+------------------+------------------+------------------+------------------+---------+-----+\n",
      "only showing top 10 rows\n",
      "\n"
     ]
    }
   ],
   "source": [
    "#Read all data for 1962 into Spark dataframe\n",
    "df = spark.read.option(\"inferSchema\", \"false\").csv(r\"..\\data\\stocks\\stocks\\1962\\*\\*\\stocks.csv\", header=True)\n",
    "df.show(10)"
   ]
  },
  {
   "cell_type": "code",
   "execution_count": 85,
   "metadata": {},
   "outputs": [
    {
     "name": "stdout",
     "output_type": "stream",
     "text": [
      "root\n",
      " |-- Date: string (nullable = true)\n",
      " |-- Open: string (nullable = true)\n",
      " |-- High: string (nullable = true)\n",
      " |-- Low: string (nullable = true)\n",
      " |-- Close: string (nullable = true)\n",
      " |-- Adj Close: string (nullable = true)\n",
      " |-- Volume: string (nullable = true)\n",
      " |-- stock: string (nullable = true)\n",
      "\n"
     ]
    }
   ],
   "source": [
    "df.printSchema()"
   ]
  },
  {
   "cell_type": "code",
   "execution_count": 86,
   "metadata": {},
   "outputs": [
    {
     "name": "stdout",
     "output_type": "stream",
     "text": [
      "+-------+----------+------------------+------------------+--------------------+--------------------+--------------------+-----------------+-----+\n",
      "|summary|      Date|              Open|              High|                 Low|               Close|           Adj Close|           Volume|stock|\n",
      "+-------+----------+------------------+------------------+--------------------+--------------------+--------------------+-----------------+-----+\n",
      "|  count|      5106|              5106|              5106|                5084|                5106|                5106|             5085| 5106|\n",
      "|   mean|      NULL|1.0904873526012002|16.757624946793637|  15.728619917198033|   16.64199179044607|   5.986642513535306|540930.2458210423| NULL|\n",
      "| stddev|      NULL|2.3644535253049095| 53.91407348193544|     51.322922898144|  53.546771399008016|   24.64637054715319|864596.2440525509| NULL|\n",
      "|    min|1962-01-02|               0.0|               0.0|-0.04043552317256...|0.053624976426362984|-0.04100876298375...|              0.0|   AA|\n",
      "|    max|1962-12-31|7.7133331298828125|          9.984375|             9.96875|            9.984375|7.029978519312864...|         998400.0|  XOM|\n",
      "+-------+----------+------------------+------------------+--------------------+--------------------+--------------------+-----------------+-----+\n",
      "\n"
     ]
    }
   ],
   "source": [
    "df.describe().show()"
   ]
  },
  {
   "cell_type": "code",
   "execution_count": 87,
   "metadata": {},
   "outputs": [
    {
     "name": "stdout",
     "output_type": "stream",
     "text": [
      "+----------+----+-------+--------------------+-------+------------------+------+-----+\n",
      "|      Date|Open|   High|                 Low|  Close|         Adj Close|Volume|stock|\n",
      "+----------+----+-------+--------------------+-------+------------------+------+-----+\n",
      "|1962-12-14| 0.0|239.375|-0.04043552317256...|239.375|112.29613494873048| 400.0|  NAV|\n",
      "|1962-12-11| 0.0|244.375|-0.19642100914970...|244.375|114.64173126220705| 400.0|  NAV|\n",
      "|1962-12-04| 0.0|249.375|-0.20796873271593...|249.375|115.56932830810548| 500.0|  NAV|\n",
      "|1962-12-05| 0.0| 248.75|-0.41136139125085...| 248.75|115.27965545654295| 500.0|  NAV|\n",
      "|1962-12-31| 0.0|250.625|-0.44164770838965...| 248.75| 116.6941375732422| 600.0|  NAV|\n",
      "|1962-12-26| 0.0|246.875|-0.83186249301530...| 246.25|115.52132415771484| 500.0|  NAV|\n",
      "|1962-12-18| 0.0| 238.75|-0.91096969052325...| 236.25| 110.8301010131836| 900.0|  NAV|\n",
      "|1962-12-03| 0.0|  247.5|-1.54637213084751...|  247.5|114.70040130615234| 500.0|  NAV|\n",
      "|1962-12-17| 0.0|240.625|-1.67761155076315...| 238.75|112.00292205810548| 700.0|  NAV|\n",
      "|1962-12-19| 0.0|  240.0|-1.93146279913240...|  240.0|112.58932495117188| 700.0|  NAV|\n",
      "+----------+----+-------+--------------------+-------+------------------+------+-----+\n",
      "only showing top 10 rows\n",
      "\n"
     ]
    }
   ],
   "source": [
    "df.where(F.isnotnull(F.col('Low'))).orderBy(F.col('Low')).show(10)"
   ]
  },
  {
   "cell_type": "code",
   "execution_count": 88,
   "metadata": {},
   "outputs": [
    {
     "name": "stdout",
     "output_type": "stream",
     "text": [
      "+----------+----+------------------+------------------+------------------+--------------------+---------+-----+\n",
      "|      Date|Open|              High|               Low|             Close|           Adj Close|   Volume|stock|\n",
      "+----------+----+------------------+------------------+------------------+--------------------+---------+-----+\n",
      "|1962-06-13| 0.0| 5.583333492279053| 5.541666507720947| 5.552083492279053|-0.04100876298375...|  54000.0|   FL|\n",
      "|1962-06-05| 0.0| 5.666666507720947|           5.59375| 5.614583492279053|-0.16605921310473...|  52800.0|   FL|\n",
      "|1962-06-18| 0.0| 5.666666507720947|               5.5|            5.5625|-0.32137937514811...|  42000.0|   FL|\n",
      "|1962-06-22| 0.0| 5.364583492279053| 5.291666507720947| 5.291666507720947|-0.50455847278181...|  67200.0|   FL|\n",
      "|1962-06-14| 0.0| 5.583333492279053| 5.520833492279053| 5.520833492279053|-0.87224455509039...|  48000.0|   FL|\n",
      "|1962-06-12| 0.0| 5.666666507720947| 5.604166507720947| 5.604166507720947|-1.07113589056835...|  50400.0|   FL|\n",
      "|1962-06-27| 0.0|           5.40625|            5.3125| 5.354166507720947|-1.51026447666843...|  51600.0|   FL|\n",
      "|1962-10-23| 0.0|0.1119791641831398|0.1063368022441864|0.1080729141831398|0.000136998220114...|2361600.0|   MO|\n",
      "|1962-10-25| 0.0|          0.109375|0.1076388880610466|0.1085069477558136|0.000137548500788...|5068800.0|   MO|\n",
      "|1962-10-26| 0.0|          0.109375|0.1085069477558136|          0.109375|0.000138648858410...| 748800.0|   MO|\n",
      "+----------+----+------------------+------------------+------------------+--------------------+---------+-----+\n",
      "only showing top 10 rows\n",
      "\n"
     ]
    }
   ],
   "source": [
    "df.where(F.isnotnull(F.col('Adj Close'))).orderBy(F.col('Adj Close')).show(10)"
   ]
  },
  {
   "cell_type": "markdown",
   "metadata": {},
   "source": [
    "## Update column names\n",
    "To make the data easier to work with, you will need to make a few changes:\n",
    "1. Column headers should all be in lowercase; and\n",
    "2. Whitespaces should be replaced with underscores.\n",
    "\n",
    "\n",
    "> ℹ️ **Instructions** ℹ️\n",
    ">\n",
    ">Make sure that the column headers are all in lowercase and that any whitespaces are replaced with underscores.\n",
    ">\n",
    ">*You may use as many coding cells as necessary.*"
   ]
  },
  {
   "cell_type": "code",
   "execution_count": 89,
   "metadata": {},
   "outputs": [
    {
     "name": "stdout",
     "output_type": "stream",
     "text": [
      "+----------+------------------+------------------+------------------+------------------+--------------------+---------+-----+\n",
      "|      date|              open|              high|               low|             close|           adj_close|   volume|stock|\n",
      "+----------+------------------+------------------+------------------+------------------+--------------------+---------+-----+\n",
      "|1962-02-19| 5.839290142059326| 5.907374858856201| 5.839290142059326| 5.863319873809815|  1.3863292932510376|  29900.0|   AA|\n",
      "|1962-02-19| 5.481634140014648|5.5284857749938965| 5.481634140014648| 5.516772747039795|  1.2804527282714844|  32000.0| ARNC|\n",
      "|1962-02-19|0.9074074029922484|0.9156378507614136|0.8991769552230835| 0.903292179107666|  0.1614154428243637| 619400.0|   BA|\n",
      "|1962-02-19|1.6770833730697632|1.6927083730697632|1.6614583730697632|1.6770833730697632|  0.1440587043762207| 170400.0|  CAT|\n",
      "|1962-02-19|               0.0|3.5788691043853764|              20.0| 3.549107074737549|  0.0565012246370315| 273600.0|  CVX|\n",
      "|1962-02-19|0.0997673943638801|0.0997673943638801|0.0982085317373275|0.0982085317373275|   0.037543412297964| 817400.0|  DIS|\n",
      "|1962-02-19|               0.0|           29.9375|             29.75|           29.9375|  0.4996414482593536|   1600.0|  DTE|\n",
      "|1962-02-19|               0.0|          9.921875|          9.890625|          9.921875|  0.2249917536973952|   8800.0|   ED|\n",
      "|1962-02-19|               0.0| 7.083333492279053| 7.020833492279053| 7.020833492279053|  0.9129652380943298|  20400.0|   FL|\n",
      "|1962-02-19|0.7737379670143127|0.7774940133094788|0.7637219429016113|0.7674779891967773|  0.0018262817757204|1557500.0|   GE|\n",
      "|1962-02-19|               0.0|           10.9375|             10.75|           10.9375|  1.9131780862808228|  22800.0|   GT|\n",
      "|1962-02-19|0.1126461774110794|0.1139766424894332|0.1126461774110794|0.1130896657705307|  0.0062723471783101| 591800.0|  HPQ|\n",
      "|1962-02-19| 7.260000228881836| 7.293333530426025| 7.173333168029785| 7.186666488647461|  0.5825691223144531| 280000.0|  IBM|\n",
      "|1962-02-19|               0.0|   9.0038480758667| 8.822562217712402| 8.882990837097168|  0.7784165143966675|  39300.0|   IP|\n",
      "|1962-02-19|               0.0|0.2320601791143417|0.2320601791143417|0.2320601791143417|6.541048946928639...|  43200.0|  JNJ|\n",
      "|1962-02-19|0.2415364533662796|0.2434895783662796|0.2415364533662796|0.2434895783662796|  0.0039230370894074| 345600.0|   KO|\n",
      "|1962-02-19|               0.0|0.1788194477558136|0.1762152761220932|0.1770833283662796|  0.0002167469356209| 460800.0|   MO|\n",
      "|1962-02-19|               0.0|             280.0|           276.875|           279.375|  124.94374084472656|    600.0|  NAV|\n",
      "|1962-02-19|               0.0|         1.2734375|          1.265625|          1.265625|  0.0120115065947175| 281600.0|   PG|\n",
      "|1962-02-19|               0.0|        1.74609375|         1.7109375|        1.73828125|  0.0154947629198431|1657600.0|  XOM|\n",
      "+----------+------------------+------------------+------------------+------------------+--------------------+---------+-----+\n",
      "only showing top 20 rows\n",
      "\n"
     ]
    }
   ],
   "source": [
    "# Updating column names\n",
    "\n",
    "# function for renaming columns\n",
    "def column_rename(df):\n",
    "    for col in df.columns:\n",
    "        df = df.withColumnRenamed(col, col.lower().replace(\" \", \"_\"))\n",
    "    return df\n",
    "\n",
    "# Apply function\n",
    "renamed_df = column_rename(df)\n",
    "\n",
    "renamed_df.show()"
   ]
  },
  {
   "cell_type": "markdown",
   "metadata": {},
   "source": [
    "## Null Values\n",
    "Null values often represent missing pieces of data. It is always good to know where your null values lie - so you can quickly identify and remedy any issues stemming from these.\n",
    "\n",
    "> ℹ️ **Instructions** ℹ️\n",
    ">\n",
    ">Write code to count the number of null values found in each column.\n",
    ">\n",
    ">*You may use as many coding cells as necessary.*"
   ]
  },
  {
   "cell_type": "code",
   "execution_count": 90,
   "metadata": {},
   "outputs": [
    {
     "name": "stdout",
     "output_type": "stream",
     "text": [
      "+----+----+----+---+-----+---------+------+-----+\n",
      "|date|open|high|low|close|adj_close|volume|stock|\n",
      "+----+----+----+---+-----+---------+------+-----+\n",
      "|   0|   0|   0| 22|    0|        0|    21|    0|\n",
      "+----+----+----+---+-----+---------+------+-----+\n",
      "\n"
     ]
    }
   ],
   "source": [
    "#Count null values per column\n",
    "renamed_df.select([F.sum(F.col(column).isNull().cast(\"int\")).alias(column) for column in renamed_df.columns]).show()"
   ]
  },
  {
   "cell_type": "markdown",
   "metadata": {},
   "source": [
    "## Data type conversion - The final data schema\n",
    "\n",
    "Now that we have identified the number of missing values in the data set, we'll move on to convert our data schema to the required data types. \n",
    "\n",
    "> ℹ️ **Instructions** ℹ️\n",
    ">\n",
    ">Use typecasting to convert the string data types in your current data schema to more appropriate data types.\n",
    ">\n",
    ">*You may use as many coding cells as necessary.*"
   ]
  },
  {
   "cell_type": "code",
   "execution_count": 91,
   "metadata": {},
   "outputs": [
    {
     "name": "stdout",
     "output_type": "stream",
     "text": [
      "root\n",
      " |-- date: timestamp (nullable = true)\n",
      " |-- open: float (nullable = true)\n",
      " |-- high: float (nullable = true)\n",
      " |-- low: float (nullable = true)\n",
      " |-- close: float (nullable = true)\n",
      " |-- adj_close: float (nullable = true)\n",
      " |-- volume: float (nullable = true)\n",
      " |-- stock: string (nullable = true)\n",
      "\n"
     ]
    }
   ],
   "source": [
    "#Typecasting columns\n",
    "typecasted_df = renamed_df.withColumn(\"date\", F.col(\"date\").cast(TimestampType())) \\\n",
    "       .withColumn(\"open\", F.col(\"open\").cast(FloatType())) \\\n",
    "       .withColumn(\"high\", F.col(\"high\").cast(FloatType())) \\\n",
    "       .withColumn(\"low\", F.col(\"low\").cast(FloatType())) \\\n",
    "       .withColumn(\"close\", F.col(\"close\").cast(FloatType())) \\\n",
    "       .withColumn(\"adj_close\", F.col(\"adj_close\").cast(FloatType())) \\\n",
    "       .withColumn(\"volume\", F.col(\"volume\").cast(FloatType()))\n",
    "\n",
    "typecasted_df.printSchema()"
   ]
  },
  {
   "cell_type": "markdown",
   "metadata": {},
   "source": [
    "## Consolidate missing values\n",
    "We have to check if the data type conversion above was done correctly.\n",
    "If the casting was not successful, a null value gets inserted into the dataframe. You can thus check for successful conversion by determining if any null values are included in the resulting dataframe.\n",
    "\n",
    "\n",
    "> ℹ️ **Instructions** ℹ️\n",
    ">\n",
    ">Write code to compare the number of invalid entries (nulls) pre-conversion and post-conversion.\n",
    ">\n",
    ">*You may use as many coding cells as necessary.*"
   ]
  },
  {
   "cell_type": "code",
   "execution_count": 92,
   "metadata": {},
   "outputs": [],
   "source": [
    "# Calculate null counts before and after typecasting\n",
    "null_count_before = renamed_df.select([F.sum(F.col(column).isNull().cast(\"int\")).alias(column) for column in renamed_df.columns])\n",
    "null_count_after = typecasted_df.select([F.sum(F.col(column).isNull().cast(\"int\")).alias(column) for column in typecasted_df.columns])"
   ]
  },
  {
   "cell_type": "code",
   "execution_count": 93,
   "metadata": {},
   "outputs": [],
   "source": [
    "# Rename columns in null_count_after to ensure unique names\n",
    "null_count_after = null_count_after.select([F.col(column).alias(f\"{column}_after\") for column in null_count_after.columns])"
   ]
  },
  {
   "cell_type": "code",
   "execution_count": 94,
   "metadata": {},
   "outputs": [],
   "source": [
    "# Add a dummy column to facilitate the join\n",
    "null_count_before = null_count_before.withColumn(\"dummy_key\", F.lit(1))\n",
    "null_count_after = null_count_after.withColumn(\"dummy_key\", F.lit(1))\n",
    "\n",
    "# Join the DataFrames on the dummy column\n",
    "joined_df = null_count_before.join(null_count_after, \"dummy_key\")"
   ]
  },
  {
   "cell_type": "code",
   "execution_count": 95,
   "metadata": {
    "scrolled": true
   },
   "outputs": [
    {
     "name": "stdout",
     "output_type": "stream",
     "text": [
      "+----+----+----+---+-----+---------+------+-----+\n",
      "|date|open|high|low|close|adj_close|volume|stock|\n",
      "+----+----+----+---+-----+---------+------+-----+\n",
      "|   0|   0|   0| 20|    0|       21|     0|    0|\n",
      "+----+----+----+---+-----+---------+------+-----+\n",
      "\n"
     ]
    }
   ],
   "source": [
    "# Subtract the columns to get the difference in null counts\n",
    "for column in renamed_df.columns:\n",
    "    joined_df = joined_df.withColumn(column, F.col(f\"{column}_after\") - F.col(column))\n",
    "\n",
    "# Drop the dummy column and the original null count columns\n",
    "result_df = joined_df.drop(\"dummy_key\").drop(\"dummy_key_after\").drop(*[f\"{column}_after\" for column in renamed_df.columns])\n",
    "\n",
    "# Show the result\n",
    "result_df.show()"
   ]
  },
  {
   "cell_type": "markdown",
   "metadata": {},
   "source": [
    "Here you should be able to see if any of your casts went wrong. \n",
    "Do not attempt to correct any missing values at this point. This will be dealt with in later sections of the predict."
   ]
  },
  {
   "cell_type": "markdown",
   "metadata": {},
   "source": [
    "## Generate parquet files\n",
    "When writing in Spark, we typically use parquet format. This format allows parallel writing using Spark's optimisation while maintaining other useful things like metadata.\n",
    "\n",
    "When writing, it is good to make sure that the data is sufficiently partitioned. \n",
    "\n",
    "Generally, data should be partitioned with one partition for every 200MB of data, but this also depends on the size of your cluster and executors. \n"
   ]
  },
  {
   "cell_type": "markdown",
   "metadata": {},
   "source": [
    "### Check the size of the dataframe before partitioning"
   ]
  },
  {
   "cell_type": "code",
   "execution_count": 96,
   "metadata": {},
   "outputs": [],
   "source": [
    "from pyspark.serializers import PickleSerializer, AutoBatchedSerializer"
   ]
  },
  {
   "cell_type": "code",
   "execution_count": 97,
   "metadata": {},
   "outputs": [
    {
     "name": "stdout",
     "output_type": "stream",
     "text": [
      "The dataframe is 6.963128 MB\n"
     ]
    }
   ],
   "source": [
    "rdd = df.rdd._reserialize(AutoBatchedSerializer(PickleSerializer()))\n",
    "obj = rdd.ctx._jvm.org.apache.spark.mllib.api.python.SerDe.pythonToJava(rdd._jrdd, True)\n",
    "size = sc._jvm.org.apache.spark.util.SizeEstimator.estimate(obj)\n",
    "size_MB = size/1000000\n",
    "partitions = max(int(size_MB/200), 2)\n",
    "print(f'The dataframe is {size_MB} MB')"
   ]
  },
  {
   "cell_type": "markdown",
   "metadata": {},
   "source": [
    "### Write parquet files to the local directory\n",
    "> ℹ️ **Instructions** ℹ️\n",
    ">\n",
    "> Use the **coalesce** function and the number of **partitions** derived above to write parquet files to your local directory \n",
    ">\n",
    ">*You may use as many coding cells as necessary.*"
   ]
  },
  {
   "cell_type": "code",
   "execution_count": 102,
   "metadata": {},
   "outputs": [],
   "source": [
    "#repartition dataframe and write to parquet\n",
    "coalesced_df = typecasted_df.coalesce(partitions)\n",
    "\n",
    "coalesced_df.write.parquet(r\"..\\data\\processed_data\\1962\\ingested_data\")"
   ]
  }
 ],
 "metadata": {
  "celltoolbar": "Raw Cell Format",
  "interpreter": {
   "hash": "24a0a2ddc4dffcb168e507551dd24967ddc40ea2df7a72a200a74e0ae6d88beb"
  },
  "kernelspec": {
   "display_name": "Python 3 (ipykernel)",
   "language": "python",
   "name": "python3"
  }
 },
 "nbformat": 4,
 "nbformat_minor": 2
}
